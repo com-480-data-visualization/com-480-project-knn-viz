{
 "cells": [
  {
   "cell_type": "markdown",
   "metadata": {},
   "source": [
    "## Data Exploration - 120 years of Olympics"
   ]
  },
  {
   "cell_type": "code",
   "execution_count": null,
   "metadata": {},
   "outputs": [],
   "source": [
    "import numpy as np\n",
    "import pandas as pd\n",
    "import matplotlib.pyplot as plt"
   ]
  },
  {
   "cell_type": "code",
   "execution_count": null,
   "metadata": {},
   "outputs": [],
   "source": [
    "df_athletes = pd.read_csv('./120-years-of-olympic-history-athletes-and-results/athlete_events.csv')"
   ]
  },
  {
   "cell_type": "code",
   "execution_count": null,
   "metadata": {},
   "outputs": [],
   "source": [
    "print('Number of entries {}'.format(df_athletes.shape[0]))\n",
    "print('Features:')\n",
    "for x in list(df_athletes.columns):\n",
    "    print('\\t *\\t{}'.format(x))"
   ]
  },
  {
   "cell_type": "code",
   "execution_count": null,
   "metadata": {},
   "outputs": [],
   "source": [
    "df_athletes.head()"
   ]
  },
  {
   "cell_type": "markdown",
   "metadata": {},
   "source": [
    "### Countries with more medals"
   ]
  },
  {
   "cell_type": "code",
   "execution_count": null,
   "metadata": {},
   "outputs": [],
   "source": [
    "medals = df_athletes.dropna().groupby(['Sex', 'NOC', 'Medal']).count().reset_index()"
   ]
  },
  {
   "cell_type": "code",
   "execution_count": null,
   "metadata": {},
   "outputs": [],
   "source": [
    "f, ax = plt.subplots(1,3, figsize=(20,5), sharey=True)\n",
    "for idx, med in enumerate(['Gold', 'Silver', 'Bronze']):\n",
    "    comitee = pd.pivot_table(medals[medals.Medal == med], index='NOC', columns='Sex').fillna(0)\n",
    "    comitee[('ID', 'Total')] = comitee[('ID', 'F')] + comitee[('ID', 'M')]\n",
    "    comitee.sort_values([('ID', 'Total')]).iloc[-20:,:2].plot(kind='bar', stacked=True, ax=ax[idx], title='Comitee with highest number of {} medals'.format(med))"
   ]
  },
  {
   "cell_type": "code",
   "execution_count": null,
   "metadata": {},
   "outputs": [],
   "source": [
    "df_athletes['type_event'] = df_athletes['Event'].apply(lambda x: ' '.join((x.split()[2:])))"
   ]
  },
  {
   "cell_type": "markdown",
   "metadata": {},
   "source": [
    "### Number of athletes per year"
   ]
  },
  {
   "cell_type": "code",
   "execution_count": null,
   "metadata": {},
   "outputs": [],
   "source": [
    "f, ax = plt.subplots(figsize=(20,5))\n",
    "df_athletes[df_athletes.Season == 'Summer'].groupby('Year').agg({'Name':'nunique'}).\\\n",
    "plot(kind='bar', ax=ax, title='Number of athletes by year')\n",
    "ax.set_xlabel('Year')\n",
    "ax.set_ylabel('Number of athletes')\n",
    "plt.show()"
   ]
  },
  {
   "cell_type": "code",
   "execution_count": null,
   "metadata": {},
   "outputs": [],
   "source": [
    "f, ax = plt.subplots(figsize=(20,5))\n",
    "pd.pivot_table(df_athletes[df_athletes.Season == 'Summer'].groupby(['Year', 'Sex']).agg({'Name':'count'}), \\\n",
    "              index='Year', columns='Sex').\\\n",
    "plot(kind='bar', ax=ax, stacked=True, title='Number of athletes by year')\n",
    "ax.set_xlabel('Year')\n",
    "ax.set_ylabel('Number of athletes')\n",
    "ax.legend(['Female', 'Male'])\n",
    "plt.show()"
   ]
  },
  {
   "cell_type": "code",
   "execution_count": null,
   "metadata": {},
   "outputs": [],
   "source": [
    "print('Number of unique athletes: {}'.format(df_athletes.Name.nunique()))\n",
    "print('Number of unique athletes (Summer): {}'.format(\\\n",
    "        df_athletes[df_athletes.Season == 'Summer'].Name.nunique()))\n",
    "print('Number of unique athletes (Winter): {}'.format(\\\n",
    "        df_athletes[df_athletes.Season == 'Winter'].Name.nunique()))\n",
    "print('Number of unique host cities: {}'.format(df_athletes.City.nunique()))\n",
    "print('Number of unique host cities (Summer): {}'.format(\\\n",
    "        df_athletes[df_athletes.Season == 'Summer'].City.nunique()))\n",
    "print('Number of unique host cities (Winter): {}'.format(\\\n",
    "        df_athletes[df_athletes.Season == 'Winter'].City.nunique()))"
   ]
  },
  {
   "cell_type": "code",
   "execution_count": null,
   "metadata": {},
   "outputs": [],
   "source": [
    "print('Athletes participating in both summer and winter games: ')\n",
    "a = set(df_athletes[df_athletes.Season == 'Summer'].Name.unique())\n",
    "b = set(df_athletes[df_athletes.Season == 'Winter'].Name.unique())\n",
    "print(len(a.intersection(b)))\n",
    "df_athletes[df_athletes.Name.isin(list(a.intersection(b)))].Sport.unique()"
   ]
  },
  {
   "cell_type": "markdown",
   "metadata": {},
   "source": [
    "### Sports by year"
   ]
  },
  {
   "cell_type": "code",
   "execution_count": null,
   "metadata": {},
   "outputs": [],
   "source": [
    "sport_by_year = df_athletes[df_athletes.Season == 'Summer'][['Year', 'Sport']].groupby('Year')['Sport'].apply(set)"
   ]
  },
  {
   "cell_type": "code",
   "execution_count": null,
   "metadata": {},
   "outputs": [],
   "source": [
    "f, ax = plt.subplots(figsize=(20,5))\n",
    "df_athletes[df_athletes.Season == 'Summer'].groupby('Year').agg({'Sport':'nunique'}).\\\n",
    "plot(kind='bar', ax=ax, title='Number of sports by year')\n",
    "ax.set_xlabel('Year')\n",
    "ax.set_ylabel('Number of different sports')\n",
    "plt.show()"
   ]
  },
  {
   "cell_type": "code",
   "execution_count": null,
   "metadata": {},
   "outputs": [],
   "source": [
    "years = sorted(df_athletes[df_athletes.Season == 'Summer'].Year.unique())\n",
    "disappearing_sports = [(years[i], list(sport_by_year[years[i-1]] - sport_by_year[years[i]])) for i in range(1,len(years))]\n",
    "new_sports = [(years[i], list(sport_by_year[years[i]] - sport_by_year[years[i-1]])) for i in range(1,len(years))]"
   ]
  },
  {
   "cell_type": "code",
   "execution_count": null,
   "metadata": {},
   "outputs": [],
   "source": [
    "for e, d in zip(new_sports, disappearing_sports):\n",
    "    print('Year: ', e[0])\n",
    "    print(' New sports: ', e[1])\n",
    "    print('Disappearing sports:')\n",
    "    print(d[1],'\\n')"
   ]
  },
  {
   "cell_type": "code",
   "execution_count": null,
   "metadata": {},
   "outputs": [],
   "source": [
    "pd.DataFrame([(x,y[1],z[1]) for x, y, z in zip(years, new_sports, disappearing_sports)], columns=['Year', 'New', 'Disappearing'])"
   ]
  },
  {
   "cell_type": "code",
   "execution_count": null,
   "metadata": {},
   "outputs": [],
   "source": [
    "sport_year = pd.pivot_table(df_athletes[df_athletes.Season == 'Summer'][['Year', 'Sport', 'ID']].groupby(['Year', 'Sport'])\\\n",
    "               .count().reset_index(),\n",
    "               index='Sport', columns='Year').fillna(0)"
   ]
  },
  {
   "cell_type": "code",
   "execution_count": null,
   "metadata": {},
   "outputs": [],
   "source": [
    "f, ax = plt.subplots(figsize=(20,5))\n",
    "df_athletes[df_athletes.Season == 'Summer'][['Year', 'Sport']].groupby(['Sport'])\\\n",
    "               .nunique().sort_values('Year').plot(kind='bar',y='Year', ax=ax)\n",
    "plt.show()"
   ]
  },
  {
   "cell_type": "code",
   "execution_count": null,
   "metadata": {},
   "outputs": [],
   "source": [
    "df_athletes[(df_athletes.Season == 'Summer') & \\\n",
    "            (df_athletes.Sport.isin(df_athletes[df_athletes.Season == 'Winter'].Sport.unique()))].\\\n",
    "groupby(['Sport', 'Year']).nunique()"
   ]
  }
 ],
 "metadata": {
  "kernelspec": {
   "display_name": "Python [conda env:ada] *",
   "language": "python",
   "name": "conda-env-ada-py"
  },
  "language_info": {
   "codemirror_mode": {
    "name": "ipython",
    "version": 3
   },
   "file_extension": ".py",
   "mimetype": "text/x-python",
   "name": "python",
   "nbconvert_exporter": "python",
   "pygments_lexer": "ipython3",
   "version": "3.7.4"
  }
 },
 "nbformat": 4,
 "nbformat_minor": 2
}
