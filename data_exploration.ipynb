{
 "cells": [
  {
   "cell_type": "markdown",
   "metadata": {},
   "source": [
    "# Data Exploration - 120 years of Olympics\n",
    "\n",
    "This notebook contains some insights from the data that will be later used for the visualization project. \n",
    "The notebook contains the following sections: \n",
    "* #### Analysis from a historical point of view [1](#Analysis-from-historical-point-of-view)\n",
    "\n",
    "In this section we will explore different topics and how they have evolved along years. We centered the analysis in the Summer games just for convinience but exploring the Winter games can easily be done by chaging the filter of the exploration.\n",
    "\n",
    "* #### Analysis from Sports point of view [2](#Sport-point-of-view)\n",
    "\n",
    "In this section we will explore how the sports are divided in terms of sex and individual vs collective along time.\n",
    "\n",
    "* #### Analysis from a National Olympic Committee point of view [3](#Country-point-of-view)\n",
    "\n",
    "In this section we will look for the Olympic Committees with larger number of medals. Other details such as number of participations are explored in the historical section.\n",
    "\n",
    "\n",
    "* #### Analysis from an Athlete point of view [4](#Athlete-point-of-view)\n",
    "\n",
    "In this section we will explore some extreme cases among the athletes such as those with larger number of medals. "
   ]
  },
  {
   "cell_type": "code",
   "execution_count": 266,
   "metadata": {},
   "outputs": [],
   "source": [
    "import numpy as np\n",
    "import pandas as pd\n",
    "import matplotlib.pyplot as plt"
   ]
  },
  {
   "cell_type": "code",
   "execution_count": 267,
   "metadata": {},
   "outputs": [
    {
     "name": "stdout",
     "output_type": "stream",
     "text": [
      "Number of entries 271116\n",
      "Features:\n",
      "\t *\tID\n",
      "\t *\tName\n",
      "\t *\tSex\n",
      "\t *\tAge\n",
      "\t *\tHeight\n",
      "\t *\tWeight\n",
      "\t *\tTeam\n",
      "\t *\tNOC\n",
      "\t *\tGames\n",
      "\t *\tYear\n",
      "\t *\tSeason\n",
      "\t *\tCity\n",
      "\t *\tSport\n",
      "\t *\tEvent\n",
      "\t *\tMedal\n"
     ]
    }
   ],
   "source": [
    "df_athletes = pd.read_csv('./data/athlete_events.csv')\n",
    "\n",
    "print('Number of entries {}'.format(df_athletes.shape[0]))\n",
    "print('Features:')\n",
    "for x in list(df_athletes.columns):\n",
    "    print('\\t *\\t{}'.format(x))"
   ]
  },
  {
   "cell_type": "code",
   "execution_count": 268,
   "metadata": {},
   "outputs": [
    {
     "data": {
      "text/html": [
       "<div>\n",
       "<style scoped>\n",
       "    .dataframe tbody tr th:only-of-type {\n",
       "        vertical-align: middle;\n",
       "    }\n",
       "\n",
       "    .dataframe tbody tr th {\n",
       "        vertical-align: top;\n",
       "    }\n",
       "\n",
       "    .dataframe thead th {\n",
       "        text-align: right;\n",
       "    }\n",
       "</style>\n",
       "<table border=\"1\" class=\"dataframe\">\n",
       "  <thead>\n",
       "    <tr style=\"text-align: right;\">\n",
       "      <th></th>\n",
       "      <th>ID</th>\n",
       "      <th>Name</th>\n",
       "      <th>Sex</th>\n",
       "      <th>Age</th>\n",
       "      <th>Height</th>\n",
       "      <th>Weight</th>\n",
       "      <th>Team</th>\n",
       "      <th>NOC</th>\n",
       "      <th>Games</th>\n",
       "      <th>Year</th>\n",
       "      <th>Season</th>\n",
       "      <th>City</th>\n",
       "      <th>Sport</th>\n",
       "      <th>Event</th>\n",
       "      <th>Medal</th>\n",
       "    </tr>\n",
       "  </thead>\n",
       "  <tbody>\n",
       "    <tr>\n",
       "      <td>0</td>\n",
       "      <td>1</td>\n",
       "      <td>A Dijiang</td>\n",
       "      <td>M</td>\n",
       "      <td>24.0</td>\n",
       "      <td>180.0</td>\n",
       "      <td>80.0</td>\n",
       "      <td>China</td>\n",
       "      <td>CHN</td>\n",
       "      <td>1992 Summer</td>\n",
       "      <td>1992</td>\n",
       "      <td>Summer</td>\n",
       "      <td>Barcelona</td>\n",
       "      <td>Basketball</td>\n",
       "      <td>Basketball Men's Basketball</td>\n",
       "      <td>NaN</td>\n",
       "    </tr>\n",
       "    <tr>\n",
       "      <td>1</td>\n",
       "      <td>2</td>\n",
       "      <td>A Lamusi</td>\n",
       "      <td>M</td>\n",
       "      <td>23.0</td>\n",
       "      <td>170.0</td>\n",
       "      <td>60.0</td>\n",
       "      <td>China</td>\n",
       "      <td>CHN</td>\n",
       "      <td>2012 Summer</td>\n",
       "      <td>2012</td>\n",
       "      <td>Summer</td>\n",
       "      <td>London</td>\n",
       "      <td>Judo</td>\n",
       "      <td>Judo Men's Extra-Lightweight</td>\n",
       "      <td>NaN</td>\n",
       "    </tr>\n",
       "    <tr>\n",
       "      <td>2</td>\n",
       "      <td>3</td>\n",
       "      <td>Gunnar Nielsen Aaby</td>\n",
       "      <td>M</td>\n",
       "      <td>24.0</td>\n",
       "      <td>NaN</td>\n",
       "      <td>NaN</td>\n",
       "      <td>Denmark</td>\n",
       "      <td>DEN</td>\n",
       "      <td>1920 Summer</td>\n",
       "      <td>1920</td>\n",
       "      <td>Summer</td>\n",
       "      <td>Antwerpen</td>\n",
       "      <td>Football</td>\n",
       "      <td>Football Men's Football</td>\n",
       "      <td>NaN</td>\n",
       "    </tr>\n",
       "    <tr>\n",
       "      <td>3</td>\n",
       "      <td>4</td>\n",
       "      <td>Edgar Lindenau Aabye</td>\n",
       "      <td>M</td>\n",
       "      <td>34.0</td>\n",
       "      <td>NaN</td>\n",
       "      <td>NaN</td>\n",
       "      <td>Denmark/Sweden</td>\n",
       "      <td>DEN</td>\n",
       "      <td>1900 Summer</td>\n",
       "      <td>1900</td>\n",
       "      <td>Summer</td>\n",
       "      <td>Paris</td>\n",
       "      <td>Tug-Of-War</td>\n",
       "      <td>Tug-Of-War Men's Tug-Of-War</td>\n",
       "      <td>Gold</td>\n",
       "    </tr>\n",
       "    <tr>\n",
       "      <td>4</td>\n",
       "      <td>5</td>\n",
       "      <td>Christine Jacoba Aaftink</td>\n",
       "      <td>F</td>\n",
       "      <td>21.0</td>\n",
       "      <td>185.0</td>\n",
       "      <td>82.0</td>\n",
       "      <td>Netherlands</td>\n",
       "      <td>NED</td>\n",
       "      <td>1988 Winter</td>\n",
       "      <td>1988</td>\n",
       "      <td>Winter</td>\n",
       "      <td>Calgary</td>\n",
       "      <td>Speed Skating</td>\n",
       "      <td>Speed Skating Women's 500 metres</td>\n",
       "      <td>NaN</td>\n",
       "    </tr>\n",
       "  </tbody>\n",
       "</table>\n",
       "</div>"
      ],
      "text/plain": [
       "   ID                      Name Sex   Age  Height  Weight            Team  \\\n",
       "0   1                 A Dijiang   M  24.0   180.0    80.0           China   \n",
       "1   2                  A Lamusi   M  23.0   170.0    60.0           China   \n",
       "2   3       Gunnar Nielsen Aaby   M  24.0     NaN     NaN         Denmark   \n",
       "3   4      Edgar Lindenau Aabye   M  34.0     NaN     NaN  Denmark/Sweden   \n",
       "4   5  Christine Jacoba Aaftink   F  21.0   185.0    82.0     Netherlands   \n",
       "\n",
       "   NOC        Games  Year  Season       City          Sport  \\\n",
       "0  CHN  1992 Summer  1992  Summer  Barcelona     Basketball   \n",
       "1  CHN  2012 Summer  2012  Summer     London           Judo   \n",
       "2  DEN  1920 Summer  1920  Summer  Antwerpen       Football   \n",
       "3  DEN  1900 Summer  1900  Summer      Paris     Tug-Of-War   \n",
       "4  NED  1988 Winter  1988  Winter    Calgary  Speed Skating   \n",
       "\n",
       "                              Event Medal  \n",
       "0       Basketball Men's Basketball   NaN  \n",
       "1      Judo Men's Extra-Lightweight   NaN  \n",
       "2           Football Men's Football   NaN  \n",
       "3       Tug-Of-War Men's Tug-Of-War  Gold  \n",
       "4  Speed Skating Women's 500 metres   NaN  "
      ]
     },
     "execution_count": 268,
     "metadata": {},
     "output_type": "execute_result"
    }
   ],
   "source": [
    "df_athletes.head()"
   ]
  },
  {
   "cell_type": "markdown",
   "metadata": {},
   "source": [
    "## Analysis from historical point of view\n",
    "\n",
    "In this section we explore some data along the different years."
   ]
  },
  {
   "cell_type": "markdown",
   "metadata": {},
   "source": [
    "## History of the Games"
   ]
  },
  {
   "cell_type": "code",
   "execution_count": 269,
   "metadata": {},
   "outputs": [
    {
     "data": {
      "text/html": [
       "<div>\n",
       "<style scoped>\n",
       "    .dataframe tbody tr th:only-of-type {\n",
       "        vertical-align: middle;\n",
       "    }\n",
       "\n",
       "    .dataframe tbody tr th {\n",
       "        vertical-align: top;\n",
       "    }\n",
       "\n",
       "    .dataframe thead th {\n",
       "        text-align: right;\n",
       "    }\n",
       "</style>\n",
       "<table border=\"1\" class=\"dataframe\">\n",
       "  <thead>\n",
       "    <tr style=\"text-align: right;\">\n",
       "      <th></th>\n",
       "      <th>Year</th>\n",
       "      <th>Season</th>\n",
       "    </tr>\n",
       "  </thead>\n",
       "  <tbody>\n",
       "    <tr>\n",
       "      <td>0</td>\n",
       "      <td>1896</td>\n",
       "      <td>Summer</td>\n",
       "    </tr>\n",
       "    <tr>\n",
       "      <td>1</td>\n",
       "      <td>1900</td>\n",
       "      <td>Summer</td>\n",
       "    </tr>\n",
       "    <tr>\n",
       "      <td>2</td>\n",
       "      <td>1904</td>\n",
       "      <td>Summer</td>\n",
       "    </tr>\n",
       "    <tr>\n",
       "      <td>3</td>\n",
       "      <td>1906</td>\n",
       "      <td>Summer</td>\n",
       "    </tr>\n",
       "    <tr>\n",
       "      <td>4</td>\n",
       "      <td>1908</td>\n",
       "      <td>Summer</td>\n",
       "    </tr>\n",
       "    <tr>\n",
       "      <td>5</td>\n",
       "      <td>1912</td>\n",
       "      <td>Summer</td>\n",
       "    </tr>\n",
       "    <tr>\n",
       "      <td>6</td>\n",
       "      <td>1920</td>\n",
       "      <td>Summer</td>\n",
       "    </tr>\n",
       "    <tr>\n",
       "      <td>7</td>\n",
       "      <td>1924</td>\n",
       "      <td>Winter</td>\n",
       "    </tr>\n",
       "    <tr>\n",
       "      <td>8</td>\n",
       "      <td>1924</td>\n",
       "      <td>Summer</td>\n",
       "    </tr>\n",
       "    <tr>\n",
       "      <td>9</td>\n",
       "      <td>1928</td>\n",
       "      <td>Winter</td>\n",
       "    </tr>\n",
       "    <tr>\n",
       "      <td>10</td>\n",
       "      <td>1928</td>\n",
       "      <td>Summer</td>\n",
       "    </tr>\n",
       "    <tr>\n",
       "      <td>11</td>\n",
       "      <td>1932</td>\n",
       "      <td>Winter</td>\n",
       "    </tr>\n",
       "    <tr>\n",
       "      <td>12</td>\n",
       "      <td>1932</td>\n",
       "      <td>Summer</td>\n",
       "    </tr>\n",
       "    <tr>\n",
       "      <td>13</td>\n",
       "      <td>1936</td>\n",
       "      <td>Summer</td>\n",
       "    </tr>\n",
       "    <tr>\n",
       "      <td>14</td>\n",
       "      <td>1936</td>\n",
       "      <td>Winter</td>\n",
       "    </tr>\n",
       "    <tr>\n",
       "      <td>15</td>\n",
       "      <td>1948</td>\n",
       "      <td>Summer</td>\n",
       "    </tr>\n",
       "    <tr>\n",
       "      <td>16</td>\n",
       "      <td>1948</td>\n",
       "      <td>Winter</td>\n",
       "    </tr>\n",
       "    <tr>\n",
       "      <td>17</td>\n",
       "      <td>1952</td>\n",
       "      <td>Winter</td>\n",
       "    </tr>\n",
       "    <tr>\n",
       "      <td>18</td>\n",
       "      <td>1952</td>\n",
       "      <td>Summer</td>\n",
       "    </tr>\n",
       "    <tr>\n",
       "      <td>19</td>\n",
       "      <td>1956</td>\n",
       "      <td>Winter</td>\n",
       "    </tr>\n",
       "    <tr>\n",
       "      <td>20</td>\n",
       "      <td>1956</td>\n",
       "      <td>Summer</td>\n",
       "    </tr>\n",
       "    <tr>\n",
       "      <td>21</td>\n",
       "      <td>1960</td>\n",
       "      <td>Winter</td>\n",
       "    </tr>\n",
       "    <tr>\n",
       "      <td>22</td>\n",
       "      <td>1960</td>\n",
       "      <td>Summer</td>\n",
       "    </tr>\n",
       "    <tr>\n",
       "      <td>23</td>\n",
       "      <td>1964</td>\n",
       "      <td>Winter</td>\n",
       "    </tr>\n",
       "    <tr>\n",
       "      <td>24</td>\n",
       "      <td>1964</td>\n",
       "      <td>Summer</td>\n",
       "    </tr>\n",
       "    <tr>\n",
       "      <td>25</td>\n",
       "      <td>1968</td>\n",
       "      <td>Summer</td>\n",
       "    </tr>\n",
       "    <tr>\n",
       "      <td>26</td>\n",
       "      <td>1968</td>\n",
       "      <td>Winter</td>\n",
       "    </tr>\n",
       "    <tr>\n",
       "      <td>27</td>\n",
       "      <td>1972</td>\n",
       "      <td>Winter</td>\n",
       "    </tr>\n",
       "    <tr>\n",
       "      <td>28</td>\n",
       "      <td>1972</td>\n",
       "      <td>Summer</td>\n",
       "    </tr>\n",
       "    <tr>\n",
       "      <td>29</td>\n",
       "      <td>1976</td>\n",
       "      <td>Summer</td>\n",
       "    </tr>\n",
       "    <tr>\n",
       "      <td>30</td>\n",
       "      <td>1976</td>\n",
       "      <td>Winter</td>\n",
       "    </tr>\n",
       "    <tr>\n",
       "      <td>31</td>\n",
       "      <td>1980</td>\n",
       "      <td>Summer</td>\n",
       "    </tr>\n",
       "    <tr>\n",
       "      <td>32</td>\n",
       "      <td>1980</td>\n",
       "      <td>Winter</td>\n",
       "    </tr>\n",
       "    <tr>\n",
       "      <td>33</td>\n",
       "      <td>1984</td>\n",
       "      <td>Summer</td>\n",
       "    </tr>\n",
       "    <tr>\n",
       "      <td>34</td>\n",
       "      <td>1984</td>\n",
       "      <td>Winter</td>\n",
       "    </tr>\n",
       "    <tr>\n",
       "      <td>35</td>\n",
       "      <td>1988</td>\n",
       "      <td>Winter</td>\n",
       "    </tr>\n",
       "    <tr>\n",
       "      <td>36</td>\n",
       "      <td>1988</td>\n",
       "      <td>Summer</td>\n",
       "    </tr>\n",
       "    <tr>\n",
       "      <td>37</td>\n",
       "      <td>1992</td>\n",
       "      <td>Winter</td>\n",
       "    </tr>\n",
       "    <tr>\n",
       "      <td>38</td>\n",
       "      <td>1992</td>\n",
       "      <td>Summer</td>\n",
       "    </tr>\n",
       "    <tr>\n",
       "      <td>39</td>\n",
       "      <td>1994</td>\n",
       "      <td>Winter</td>\n",
       "    </tr>\n",
       "    <tr>\n",
       "      <td>40</td>\n",
       "      <td>1996</td>\n",
       "      <td>Summer</td>\n",
       "    </tr>\n",
       "    <tr>\n",
       "      <td>41</td>\n",
       "      <td>1998</td>\n",
       "      <td>Winter</td>\n",
       "    </tr>\n",
       "    <tr>\n",
       "      <td>42</td>\n",
       "      <td>2000</td>\n",
       "      <td>Summer</td>\n",
       "    </tr>\n",
       "    <tr>\n",
       "      <td>43</td>\n",
       "      <td>2002</td>\n",
       "      <td>Winter</td>\n",
       "    </tr>\n",
       "    <tr>\n",
       "      <td>44</td>\n",
       "      <td>2004</td>\n",
       "      <td>Summer</td>\n",
       "    </tr>\n",
       "    <tr>\n",
       "      <td>45</td>\n",
       "      <td>2006</td>\n",
       "      <td>Winter</td>\n",
       "    </tr>\n",
       "    <tr>\n",
       "      <td>46</td>\n",
       "      <td>2008</td>\n",
       "      <td>Summer</td>\n",
       "    </tr>\n",
       "    <tr>\n",
       "      <td>47</td>\n",
       "      <td>2010</td>\n",
       "      <td>Winter</td>\n",
       "    </tr>\n",
       "    <tr>\n",
       "      <td>48</td>\n",
       "      <td>2012</td>\n",
       "      <td>Summer</td>\n",
       "    </tr>\n",
       "    <tr>\n",
       "      <td>49</td>\n",
       "      <td>2014</td>\n",
       "      <td>Winter</td>\n",
       "    </tr>\n",
       "    <tr>\n",
       "      <td>50</td>\n",
       "      <td>2016</td>\n",
       "      <td>Summer</td>\n",
       "    </tr>\n",
       "  </tbody>\n",
       "</table>\n",
       "</div>"
      ],
      "text/plain": [
       "    Year  Season\n",
       "0   1896  Summer\n",
       "1   1900  Summer\n",
       "2   1904  Summer\n",
       "3   1906  Summer\n",
       "4   1908  Summer\n",
       "5   1912  Summer\n",
       "6   1920  Summer\n",
       "7   1924  Winter\n",
       "8   1924  Summer\n",
       "9   1928  Winter\n",
       "10  1928  Summer\n",
       "11  1932  Winter\n",
       "12  1932  Summer\n",
       "13  1936  Summer\n",
       "14  1936  Winter\n",
       "15  1948  Summer\n",
       "16  1948  Winter\n",
       "17  1952  Winter\n",
       "18  1952  Summer\n",
       "19  1956  Winter\n",
       "20  1956  Summer\n",
       "21  1960  Winter\n",
       "22  1960  Summer\n",
       "23  1964  Winter\n",
       "24  1964  Summer\n",
       "25  1968  Summer\n",
       "26  1968  Winter\n",
       "27  1972  Winter\n",
       "28  1972  Summer\n",
       "29  1976  Summer\n",
       "30  1976  Winter\n",
       "31  1980  Summer\n",
       "32  1980  Winter\n",
       "33  1984  Summer\n",
       "34  1984  Winter\n",
       "35  1988  Winter\n",
       "36  1988  Summer\n",
       "37  1992  Winter\n",
       "38  1992  Summer\n",
       "39  1994  Winter\n",
       "40  1996  Summer\n",
       "41  1998  Winter\n",
       "42  2000  Summer\n",
       "43  2002  Winter\n",
       "44  2004  Summer\n",
       "45  2006  Winter\n",
       "46  2008  Summer\n",
       "47  2010  Winter\n",
       "48  2012  Summer\n",
       "49  2014  Winter\n",
       "50  2016  Summer"
      ]
     },
     "execution_count": 269,
     "metadata": {},
     "output_type": "execute_result"
    }
   ],
   "source": [
    "df_athletes[['Year','Season']].drop_duplicates().sort_values('Year').reset_index(drop=True)"
   ]
  },
  {
   "cell_type": "markdown",
   "metadata": {},
   "source": [
    "#### General Observations\n",
    "\n",
    "* The Olympic Games are celebrated every 4 years. **What happened in 1906?** The **1906 Intercalated Games were held in Athens.** These Games were, but are not now, officially recognised by the IOC and no Intercalated Games have been held since. \n",
    "\n",
    "\n",
    "* In **1924 the first Winter Olympic Games** were held in Chamonix. However, Figure skating (in 1908 and 1920) and Ice hockey (in 1920) were featured as Olympic events at the Summer Olympics.\n",
    "\n",
    "\n",
    "* Both Summer and Winter Olympic Games were celebrated the same year until 1992. Beginning in 1994, the Winter Olympics were held every four years, two years after each Summer Olympics.\n",
    "\n",
    "\n",
    "* In **1916 no Games were held**. They were cancelled due to the outbreak of World War I. \n",
    "\n",
    "\n",
    "* In **1940 and 1944 no Games were held**. They were cancelled due to the World War II.\n",
    "\n",
    "\n",
    "* The next Games were supposed to be held in **2020** in Tokyo, Japan. However, due to the coronavirus pandemic, **the Games will be rescheduled** to a date no later than summer 2021, and that the Games would keep the name Tokyo 2020. This is the first time in history that the Olympics have been postponed, rather than canceled."
   ]
  },
  {
   "cell_type": "markdown",
   "metadata": {},
   "source": [
    "### Number of athletes per year"
   ]
  },
  {
   "cell_type": "code",
   "execution_count": 270,
   "metadata": {},
   "outputs": [],
   "source": [
    "df_athletes['type_event'] = df_athletes['Event'].apply(lambda x: ' '.join((x.split()[2:])))"
   ]
  },
  {
   "cell_type": "markdown",
   "metadata": {},
   "source": [
    "#### Summer Games"
   ]
  },
  {
   "cell_type": "code",
   "execution_count": 271,
   "metadata": {},
   "outputs": [
    {
     "data": {
      "image/png": "[encoded data removed]",
      "text/plain": [
       "<Figure size 1440x360 with 1 Axes>"
      ]
     },
     "metadata": {
      "needs_background": "light"
     },
     "output_type": "display_data"
    }
   ],
   "source": [
    "f, ax = plt.subplots(figsize=(20,5))\n",
    "df_athletes[df_athletes.Season == 'Summer'].groupby('Year').agg({'Name':'nunique'}).\\\n",
    "plot(kind='bar', ax=ax, title='Number of athletes by year')\n",
    "ax.set_xlabel('Year')\n",
    "ax.set_ylabel('Number of athletes')\n",
    "plt.show()"
   ]
  },
  {
   "cell_type": "code",
   "execution_count": 272,
   "metadata": {},
   "outputs": [
    {
     "data": {
      "image/png": "[encoded data removed]",
      "text/plain": [
       "<Figure size 1296x864 with 2 Axes>"
      ]
     },
     "metadata": {
      "needs_background": "light"
     },
     "output_type": "display_data"
    }
   ],
   "source": [
    "f, ax = plt.subplots(2, 1, figsize=(18,12))\n",
    "pd.pivot_table(df_athletes[df_athletes.Season == 'Summer'].groupby(['Year', 'Sex']).agg({'Name':'count'}), \\\n",
    "              index='Year', columns='Sex').\\\n",
    "plot(kind='bar',  title='Number of athletes by year - Summer', ax=ax[0])\n",
    "ax[0].set_xlabel('Year')\n",
    "ax[0].set_ylabel('Number of athletes')\n",
    "ax[0].legend(['Female', 'Male'])\n",
    "\n",
    "pd.pivot_table(df_athletes[df_athletes.Season == 'Winter'].groupby(['Year', 'Sex']).agg({'Name':'count'}), \\\n",
    "              index='Year', columns='Sex').\\\n",
    "plot(kind='bar', title='Number of athletes by year - Winter', ax=ax[1])\n",
    "ax[1].set_xlabel('Year')\n",
    "ax[1].set_ylabel('Number of athletes')\n",
    "ax[1].legend(['Female', 'Male'])\n",
    "plt.show()"
   ]
  },
  {
   "cell_type": "code",
   "execution_count": 273,
   "metadata": {},
   "outputs": [
    {
     "name": "stdout",
     "output_type": "stream",
     "text": [
      "Number of unique athletes: 134732\n",
      "Number of unique athletes (Summer): 116122\n",
      "Number of unique athletes (Winter): 18923\n",
      "Athletes participating in both summer and winter games: 313\n",
      "\n",
      "Number of unique host cities: 42\n",
      "Number of unique host cities (Summer): 23\n",
      "Number of unique host cities (Winter): 19\n"
     ]
    }
   ],
   "source": [
    "print('Number of unique athletes: {}'.format(df_athletes.Name.nunique()))\n",
    "print('Number of unique athletes (Summer): {}'.format(\\\n",
    "        df_athletes[df_athletes.Season == 'Summer'].Name.nunique()))\n",
    "print('Number of unique athletes (Winter): {}'.format(\\\n",
    "        df_athletes[df_athletes.Season == 'Winter'].Name.nunique()))\n",
    "a = set(df_athletes[df_athletes.Season == 'Summer'].Name.unique())\n",
    "b = set(df_athletes[df_athletes.Season == 'Winter'].Name.unique())\n",
    "print('Athletes participating in both summer and winter games: {}\\n'.format( len(a.intersection(b))))\n",
    "print('Number of unique host cities: {}'.format(df_athletes.City.nunique()))\n",
    "print('Number of unique host cities (Summer): {}'.format(\\\n",
    "        df_athletes[df_athletes.Season == 'Summer'].City.nunique()))\n",
    "print('Number of unique host cities (Winter): {}'.format(\\\n",
    "        df_athletes[df_athletes.Season == 'Winter'].City.nunique()))\n",
    "\n"
   ]
  },
  {
   "cell_type": "markdown",
   "metadata": {},
   "source": [
    "## Summer Olympics"
   ]
  },
  {
   "cell_type": "markdown",
   "metadata": {},
   "source": [
    "### Sports by year"
   ]
  },
  {
   "cell_type": "code",
   "execution_count": 274,
   "metadata": {},
   "outputs": [],
   "source": [
    "sport_by_year = df_athletes[df_athletes.Season == 'Summer'][['Year', 'Sport']].groupby('Year')['Sport'].apply(set)"
   ]
  },
  {
   "cell_type": "code",
   "execution_count": 275,
   "metadata": {},
   "outputs": [
    {
     "data": {
      "image/png": "[encoded data removed]",
      "text/plain": [
       "<Figure size 1440x360 with 1 Axes>"
      ]
     },
     "metadata": {
      "needs_background": "light"
     },
     "output_type": "display_data"
    }
   ],
   "source": [
    "f, ax = plt.subplots(figsize=(20,5))\n",
    "df_athletes[df_athletes.Season == 'Summer'].groupby('Year').agg({'Sport':'nunique'}).\\\n",
    "plot(kind='bar', ax=ax, title='Number of sports by year')\n",
    "ax.set_xlabel('Year')\n",
    "ax.set_ylabel('Number of different sports')\n",
    "plt.show()"
   ]
  },
  {
   "cell_type": "code",
   "execution_count": 276,
   "metadata": {},
   "outputs": [],
   "source": [
    "years = sorted(df_athletes[df_athletes.Season == 'Summer'].Year.unique())\n",
    "disappearing_sports = [(years[i], list(sport_by_year[years[i-1]] - sport_by_year[years[i]])) for i in range(1,len(years))]\n",
    "new_sports = [(years[i], list(sport_by_year[years[i]] - sport_by_year[years[i-1]])) for i in range(1,len(years))]"
   ]
  },
  {
   "cell_type": "code",
   "execution_count": 277,
   "metadata": {},
   "outputs": [],
   "source": [
    "# adding the first year\n",
    "new_sports.insert(0, (years[0], list(sport_by_year[years[0]])))\n",
    "disappearing_sports.insert(0, (years[0], []))"
   ]
  },
  {
   "cell_type": "code",
   "execution_count": 278,
   "metadata": {},
   "outputs": [
    {
     "data": {
      "text/html": [
       "<div>\n",
       "<style scoped>\n",
       "    .dataframe tbody tr th:only-of-type {\n",
       "        vertical-align: middle;\n",
       "    }\n",
       "\n",
       "    .dataframe tbody tr th {\n",
       "        vertical-align: top;\n",
       "    }\n",
       "\n",
       "    .dataframe thead th {\n",
       "        text-align: right;\n",
       "    }\n",
       "</style>\n",
       "<table border=\"1\" class=\"dataframe\">\n",
       "  <thead>\n",
       "    <tr style=\"text-align: right;\">\n",
       "      <th></th>\n",
       "      <th>Year</th>\n",
       "      <th>New</th>\n",
       "      <th>Disappearing</th>\n",
       "    </tr>\n",
       "  </thead>\n",
       "  <tbody>\n",
       "    <tr>\n",
       "      <td>0</td>\n",
       "      <td>1896</td>\n",
       "      <td>[Cycling, Swimming, Weightlifting, Gymnastics,...</td>\n",
       "      <td>[]</td>\n",
       "    </tr>\n",
       "    <tr>\n",
       "      <td>1</td>\n",
       "      <td>1900</td>\n",
       "      <td>[Sailing, Croquet, Water Polo, Football, Rowin...</td>\n",
       "      <td>[Weightlifting, Wrestling]</td>\n",
       "    </tr>\n",
       "    <tr>\n",
       "      <td>2</td>\n",
       "      <td>1904</td>\n",
       "      <td>[Boxing, Roque, Weightlifting, Lacrosse, Wrest...</td>\n",
       "      <td>[Sailing, Croquet, Basque Pelota, Shooting, Po...</td>\n",
       "    </tr>\n",
       "    <tr>\n",
       "      <td>3</td>\n",
       "      <td>1906</td>\n",
       "      <td>[Shooting]</td>\n",
       "      <td>[Boxing, Roque, Water Polo, Lacrosse, Golf, Ar...</td>\n",
       "    </tr>\n",
       "    <tr>\n",
       "      <td>4</td>\n",
       "      <td>1908</td>\n",
       "      <td>[Sailing, Boxing, Figure Skating, Jeu De Paume...</td>\n",
       "      <td>[Weightlifting]</td>\n",
       "    </tr>\n",
       "    <tr>\n",
       "      <td>5</td>\n",
       "      <td>1912</td>\n",
       "      <td>[Modern Pentathlon, Art Competitions, Equestri...</td>\n",
       "      <td>[Boxing, Figure Skating, Jeu De Paume, Lacross...</td>\n",
       "    </tr>\n",
       "    <tr>\n",
       "      <td>6</td>\n",
       "      <td>1920</td>\n",
       "      <td>[Boxing, Figure Skating, Weightlifting, Ice Ho...</td>\n",
       "      <td>[]</td>\n",
       "    </tr>\n",
       "    <tr>\n",
       "      <td>7</td>\n",
       "      <td>1924</td>\n",
       "      <td>[]</td>\n",
       "      <td>[Figure Skating, Ice Hockey, Tug-Of-War, Hocke...</td>\n",
       "    </tr>\n",
       "    <tr>\n",
       "      <td>8</td>\n",
       "      <td>1928</td>\n",
       "      <td>[Hockey]</td>\n",
       "      <td>[Shooting, Polo, Tennis, Rugby]</td>\n",
       "    </tr>\n",
       "    <tr>\n",
       "      <td>9</td>\n",
       "      <td>1932</td>\n",
       "      <td>[Shooting, Alpinism]</td>\n",
       "      <td>[Football]</td>\n",
       "    </tr>\n",
       "    <tr>\n",
       "      <td>10</td>\n",
       "      <td>1936</td>\n",
       "      <td>[Canoeing, Basketball, Football, Aeronautics, ...</td>\n",
       "      <td>[]</td>\n",
       "    </tr>\n",
       "    <tr>\n",
       "      <td>11</td>\n",
       "      <td>1948</td>\n",
       "      <td>[]</td>\n",
       "      <td>[Polo, Alpinism, Handball, Aeronautics]</td>\n",
       "    </tr>\n",
       "    <tr>\n",
       "      <td>12</td>\n",
       "      <td>1952</td>\n",
       "      <td>[]</td>\n",
       "      <td>[Art Competitions]</td>\n",
       "    </tr>\n",
       "    <tr>\n",
       "      <td>13</td>\n",
       "      <td>1956</td>\n",
       "      <td>[]</td>\n",
       "      <td>[]</td>\n",
       "    </tr>\n",
       "    <tr>\n",
       "      <td>14</td>\n",
       "      <td>1960</td>\n",
       "      <td>[]</td>\n",
       "      <td>[]</td>\n",
       "    </tr>\n",
       "    <tr>\n",
       "      <td>15</td>\n",
       "      <td>1964</td>\n",
       "      <td>[Judo, Volleyball]</td>\n",
       "      <td>[]</td>\n",
       "    </tr>\n",
       "    <tr>\n",
       "      <td>16</td>\n",
       "      <td>1968</td>\n",
       "      <td>[]</td>\n",
       "      <td>[Judo]</td>\n",
       "    </tr>\n",
       "    <tr>\n",
       "      <td>17</td>\n",
       "      <td>1972</td>\n",
       "      <td>[Judo, Handball, Archery]</td>\n",
       "      <td>[]</td>\n",
       "    </tr>\n",
       "    <tr>\n",
       "      <td>18</td>\n",
       "      <td>1976</td>\n",
       "      <td>[]</td>\n",
       "      <td>[]</td>\n",
       "    </tr>\n",
       "    <tr>\n",
       "      <td>19</td>\n",
       "      <td>1980</td>\n",
       "      <td>[]</td>\n",
       "      <td>[]</td>\n",
       "    </tr>\n",
       "    <tr>\n",
       "      <td>20</td>\n",
       "      <td>1984</td>\n",
       "      <td>[Synchronized Swimming, Rhythmic Gymnastics]</td>\n",
       "      <td>[]</td>\n",
       "    </tr>\n",
       "    <tr>\n",
       "      <td>21</td>\n",
       "      <td>1988</td>\n",
       "      <td>[Tennis, Table Tennis]</td>\n",
       "      <td>[]</td>\n",
       "    </tr>\n",
       "    <tr>\n",
       "      <td>22</td>\n",
       "      <td>1992</td>\n",
       "      <td>[Baseball, Badminton]</td>\n",
       "      <td>[]</td>\n",
       "    </tr>\n",
       "    <tr>\n",
       "      <td>23</td>\n",
       "      <td>1996</td>\n",
       "      <td>[Softball, Beach Volleyball]</td>\n",
       "      <td>[]</td>\n",
       "    </tr>\n",
       "    <tr>\n",
       "      <td>24</td>\n",
       "      <td>2000</td>\n",
       "      <td>[Taekwondo, Triathlon, Trampolining]</td>\n",
       "      <td>[]</td>\n",
       "    </tr>\n",
       "    <tr>\n",
       "      <td>25</td>\n",
       "      <td>2004</td>\n",
       "      <td>[]</td>\n",
       "      <td>[]</td>\n",
       "    </tr>\n",
       "    <tr>\n",
       "      <td>26</td>\n",
       "      <td>2008</td>\n",
       "      <td>[]</td>\n",
       "      <td>[]</td>\n",
       "    </tr>\n",
       "    <tr>\n",
       "      <td>27</td>\n",
       "      <td>2012</td>\n",
       "      <td>[]</td>\n",
       "      <td>[Baseball, Softball]</td>\n",
       "    </tr>\n",
       "    <tr>\n",
       "      <td>28</td>\n",
       "      <td>2016</td>\n",
       "      <td>[Rugby Sevens, Golf]</td>\n",
       "      <td>[]</td>\n",
       "    </tr>\n",
       "  </tbody>\n",
       "</table>\n",
       "</div>"
      ],
      "text/plain": [
       "    Year                                                New  \\\n",
       "0   1896  [Cycling, Swimming, Weightlifting, Gymnastics,...   \n",
       "1   1900  [Sailing, Croquet, Water Polo, Football, Rowin...   \n",
       "2   1904  [Boxing, Roque, Weightlifting, Lacrosse, Wrest...   \n",
       "3   1906                                         [Shooting]   \n",
       "4   1908  [Sailing, Boxing, Figure Skating, Jeu De Paume...   \n",
       "5   1912  [Modern Pentathlon, Art Competitions, Equestri...   \n",
       "6   1920  [Boxing, Figure Skating, Weightlifting, Ice Ho...   \n",
       "7   1924                                                 []   \n",
       "8   1928                                           [Hockey]   \n",
       "9   1932                               [Shooting, Alpinism]   \n",
       "10  1936  [Canoeing, Basketball, Football, Aeronautics, ...   \n",
       "11  1948                                                 []   \n",
       "12  1952                                                 []   \n",
       "13  1956                                                 []   \n",
       "14  1960                                                 []   \n",
       "15  1964                                 [Judo, Volleyball]   \n",
       "16  1968                                                 []   \n",
       "17  1972                          [Judo, Handball, Archery]   \n",
       "18  1976                                                 []   \n",
       "19  1980                                                 []   \n",
       "20  1984       [Synchronized Swimming, Rhythmic Gymnastics]   \n",
       "21  1988                             [Tennis, Table Tennis]   \n",
       "22  1992                              [Baseball, Badminton]   \n",
       "23  1996                       [Softball, Beach Volleyball]   \n",
       "24  2000               [Taekwondo, Triathlon, Trampolining]   \n",
       "25  2004                                                 []   \n",
       "26  2008                                                 []   \n",
       "27  2012                                                 []   \n",
       "28  2016                               [Rugby Sevens, Golf]   \n",
       "\n",
       "                                         Disappearing  \n",
       "0                                                  []  \n",
       "1                          [Weightlifting, Wrestling]  \n",
       "2   [Sailing, Croquet, Basque Pelota, Shooting, Po...  \n",
       "3   [Boxing, Roque, Water Polo, Lacrosse, Golf, Ar...  \n",
       "4                                     [Weightlifting]  \n",
       "5   [Boxing, Figure Skating, Jeu De Paume, Lacross...  \n",
       "6                                                  []  \n",
       "7   [Figure Skating, Ice Hockey, Tug-Of-War, Hocke...  \n",
       "8                     [Shooting, Polo, Tennis, Rugby]  \n",
       "9                                          [Football]  \n",
       "10                                                 []  \n",
       "11            [Polo, Alpinism, Handball, Aeronautics]  \n",
       "12                                 [Art Competitions]  \n",
       "13                                                 []  \n",
       "14                                                 []  \n",
       "15                                                 []  \n",
       "16                                             [Judo]  \n",
       "17                                                 []  \n",
       "18                                                 []  \n",
       "19                                                 []  \n",
       "20                                                 []  \n",
       "21                                                 []  \n",
       "22                                                 []  \n",
       "23                                                 []  \n",
       "24                                                 []  \n",
       "25                                                 []  \n",
       "26                                                 []  \n",
       "27                               [Baseball, Softball]  \n",
       "28                                                 []  "
      ]
     },
     "execution_count": 278,
     "metadata": {},
     "output_type": "execute_result"
    }
   ],
   "source": [
    "pd.DataFrame([(x,y[1],z[1]) for x, y, z in zip(years, new_sports, disappearing_sports)], columns=['Year', 'New', 'Disappearing'])"
   ]
  },
  {
   "cell_type": "code",
   "execution_count": 279,
   "metadata": {},
   "outputs": [],
   "source": [
    "sport_year = pd.pivot_table(df_athletes[df_athletes.Season == 'Summer'][['Year', 'Sport', 'ID']].groupby(['Year', 'Sport'])\\\n",
    "               .count().reset_index(),\n",
    "               index='Sport', columns='Year').fillna(0)"
   ]
  },
  {
   "cell_type": "code",
   "execution_count": 280,
   "metadata": {},
   "outputs": [
    {
     "data": {
      "image/png": "[encoded data removed]",
      "text/plain": [
       "<Figure size 1440x360 with 1 Axes>"
      ]
     },
     "metadata": {
      "needs_background": "light"
     },
     "output_type": "display_data"
    }
   ],
   "source": [
    "f, ax = plt.subplots(figsize=(20,5))\n",
    "df_athletes[df_athletes.Season == 'Summer'][['Year', 'Sport']].groupby(['Sport'])\\\n",
    "               .nunique().sort_values('Year').plot(kind='bar',y='Year', ax=ax)\n",
    "ax.set_title('Number of Years per Sport - SUMMER')\n",
    "plt.show()\n"
   ]
  },
  {
   "cell_type": "code",
   "execution_count": 281,
   "metadata": {},
   "outputs": [
    {
     "data": {
      "text/html": [
       "<div>\n",
       "<style scoped>\n",
       "    .dataframe tbody tr th:only-of-type {\n",
       "        vertical-align: middle;\n",
       "    }\n",
       "\n",
       "    .dataframe tbody tr th {\n",
       "        vertical-align: top;\n",
       "    }\n",
       "\n",
       "    .dataframe thead th {\n",
       "        text-align: right;\n",
       "    }\n",
       "</style>\n",
       "<table border=\"1\" class=\"dataframe\">\n",
       "  <thead>\n",
       "    <tr style=\"text-align: right;\">\n",
       "      <th></th>\n",
       "      <th></th>\n",
       "      <th>ID</th>\n",
       "      <th>Name</th>\n",
       "      <th>Sex</th>\n",
       "      <th>Age</th>\n",
       "      <th>Height</th>\n",
       "      <th>Weight</th>\n",
       "      <th>Team</th>\n",
       "      <th>NOC</th>\n",
       "      <th>Games</th>\n",
       "      <th>Year</th>\n",
       "      <th>Season</th>\n",
       "      <th>City</th>\n",
       "      <th>Sport</th>\n",
       "      <th>Event</th>\n",
       "      <th>Medal</th>\n",
       "      <th>type_event</th>\n",
       "    </tr>\n",
       "    <tr>\n",
       "      <th>Sport</th>\n",
       "      <th>Year</th>\n",
       "      <th></th>\n",
       "      <th></th>\n",
       "      <th></th>\n",
       "      <th></th>\n",
       "      <th></th>\n",
       "      <th></th>\n",
       "      <th></th>\n",
       "      <th></th>\n",
       "      <th></th>\n",
       "      <th></th>\n",
       "      <th></th>\n",
       "      <th></th>\n",
       "      <th></th>\n",
       "      <th></th>\n",
       "      <th></th>\n",
       "      <th></th>\n",
       "    </tr>\n",
       "  </thead>\n",
       "  <tbody>\n",
       "    <tr>\n",
       "      <td rowspan=\"2\" valign=\"top\">Alpinism</td>\n",
       "      <td>1932</td>\n",
       "      <td>2</td>\n",
       "      <td>2</td>\n",
       "      <td>1</td>\n",
       "      <td>2</td>\n",
       "      <td>0</td>\n",
       "      <td>0</td>\n",
       "      <td>1</td>\n",
       "      <td>1</td>\n",
       "      <td>1</td>\n",
       "      <td>1</td>\n",
       "      <td>1</td>\n",
       "      <td>1</td>\n",
       "      <td>1</td>\n",
       "      <td>1</td>\n",
       "      <td>1</td>\n",
       "      <td>1</td>\n",
       "    </tr>\n",
       "    <tr>\n",
       "      <td>1936</td>\n",
       "      <td>2</td>\n",
       "      <td>2</td>\n",
       "      <td>2</td>\n",
       "      <td>2</td>\n",
       "      <td>0</td>\n",
       "      <td>0</td>\n",
       "      <td>1</td>\n",
       "      <td>1</td>\n",
       "      <td>1</td>\n",
       "      <td>1</td>\n",
       "      <td>1</td>\n",
       "      <td>1</td>\n",
       "      <td>1</td>\n",
       "      <td>1</td>\n",
       "      <td>1</td>\n",
       "      <td>1</td>\n",
       "    </tr>\n",
       "    <tr>\n",
       "      <td rowspan=\"2\" valign=\"top\">Figure Skating</td>\n",
       "      <td>1908</td>\n",
       "      <td>21</td>\n",
       "      <td>21</td>\n",
       "      <td>2</td>\n",
       "      <td>12</td>\n",
       "      <td>0</td>\n",
       "      <td>0</td>\n",
       "      <td>8</td>\n",
       "      <td>6</td>\n",
       "      <td>1</td>\n",
       "      <td>1</td>\n",
       "      <td>1</td>\n",
       "      <td>1</td>\n",
       "      <td>1</td>\n",
       "      <td>4</td>\n",
       "      <td>3</td>\n",
       "      <td>4</td>\n",
       "    </tr>\n",
       "    <tr>\n",
       "      <td>1920</td>\n",
       "      <td>26</td>\n",
       "      <td>26</td>\n",
       "      <td>2</td>\n",
       "      <td>15</td>\n",
       "      <td>2</td>\n",
       "      <td>2</td>\n",
       "      <td>11</td>\n",
       "      <td>8</td>\n",
       "      <td>1</td>\n",
       "      <td>1</td>\n",
       "      <td>1</td>\n",
       "      <td>1</td>\n",
       "      <td>1</td>\n",
       "      <td>3</td>\n",
       "      <td>3</td>\n",
       "      <td>3</td>\n",
       "    </tr>\n",
       "    <tr>\n",
       "      <td>Ice Hockey</td>\n",
       "      <td>1920</td>\n",
       "      <td>60</td>\n",
       "      <td>60</td>\n",
       "      <td>1</td>\n",
       "      <td>19</td>\n",
       "      <td>11</td>\n",
       "      <td>13</td>\n",
       "      <td>7</td>\n",
       "      <td>7</td>\n",
       "      <td>1</td>\n",
       "      <td>1</td>\n",
       "      <td>1</td>\n",
       "      <td>1</td>\n",
       "      <td>1</td>\n",
       "      <td>1</td>\n",
       "      <td>3</td>\n",
       "      <td>1</td>\n",
       "    </tr>\n",
       "  </tbody>\n",
       "</table>\n",
       "</div>"
      ],
      "text/plain": [
       "                     ID  Name  Sex  Age  Height  Weight  Team  NOC  Games  \\\n",
       "Sport          Year                                                         \n",
       "Alpinism       1932   2     2    1    2       0       0     1    1      1   \n",
       "               1936   2     2    2    2       0       0     1    1      1   \n",
       "Figure Skating 1908  21    21    2   12       0       0     8    6      1   \n",
       "               1920  26    26    2   15       2       2    11    8      1   \n",
       "Ice Hockey     1920  60    60    1   19      11      13     7    7      1   \n",
       "\n",
       "                     Year  Season  City  Sport  Event  Medal  type_event  \n",
       "Sport          Year                                                       \n",
       "Alpinism       1932     1       1     1      1      1      1           1  \n",
       "               1936     1       1     1      1      1      1           1  \n",
       "Figure Skating 1908     1       1     1      1      4      3           4  \n",
       "               1920     1       1     1      1      3      3           3  \n",
       "Ice Hockey     1920     1       1     1      1      1      3           1  "
      ]
     },
     "execution_count": 281,
     "metadata": {},
     "output_type": "execute_result"
    }
   ],
   "source": [
    "# Winter sports in the summer games\n",
    "df_athletes[(df_athletes.Season == 'Summer') & \\\n",
    "            (df_athletes.Sport.isin(df_athletes[df_athletes.Season == 'Winter'].Sport.unique()))].\\\n",
    "groupby(['Sport', 'Year']).nunique()"
   ]
  },
  {
   "cell_type": "markdown",
   "metadata": {},
   "source": [
    "### Countries (as in NOC) by year"
   ]
  },
  {
   "cell_type": "code",
   "execution_count": 282,
   "metadata": {},
   "outputs": [
    {
     "data": {
      "image/png": "[encoded data removed]",
      "text/plain": [
       "<Figure size 1440x360 with 1 Axes>"
      ]
     },
     "metadata": {
      "needs_background": "light"
     },
     "output_type": "display_data"
    }
   ],
   "source": [
    "country_per_year = df_athletes[df_athletes.Season == 'Summer'].groupby(['Year'])['NOC'].nunique()\n",
    "\n",
    "f, ax = plt.subplots(figsize=(20,5))\n",
    "country_per_year.plot(kind='bar', title='Number of countries per year', ax=ax)\n",
    "ax.set_xlabel('Year')\n",
    "ax.set_ylabel('Number of different countries')\n",
    "plt.show();"
   ]
  },
  {
   "cell_type": "code",
   "execution_count": 283,
   "metadata": {},
   "outputs": [],
   "source": [
    "years = sorted(df_athletes[df_athletes.Season == 'Summer'].Year.unique())\n",
    "noc_per_year = df_athletes[df_athletes.Season == 'Summer'][['Year', 'NOC']].groupby('Year')['NOC'].apply(set)\n",
    "\n",
    "disappearing_noc = [(years[i], list(noc_per_year[years[i-1]] - noc_per_year[years[i]])) for i in range(1,len(years))]\n",
    "new_noc = [(years[i], list(noc_per_year[years[i]] - noc_per_year[years[i-1]])) for i in range(1,len(years))]"
   ]
  },
  {
   "cell_type": "code",
   "execution_count": 284,
   "metadata": {},
   "outputs": [],
   "source": [
    "# adding the first year\n",
    "new_noc.insert(0, (years[0], list(noc_per_year[years[0]])))\n",
    "disappearing_noc.insert(0, (years[0], []))"
   ]
  },
  {
   "cell_type": "code",
   "execution_count": 285,
   "metadata": {},
   "outputs": [
    {
     "data": {
      "text/html": [
       "<div>\n",
       "<style scoped>\n",
       "    .dataframe tbody tr th:only-of-type {\n",
       "        vertical-align: middle;\n",
       "    }\n",
       "\n",
       "    .dataframe tbody tr th {\n",
       "        vertical-align: top;\n",
       "    }\n",
       "\n",
       "    .dataframe thead th {\n",
       "        text-align: right;\n",
       "    }\n",
       "</style>\n",
       "<table border=\"1\" class=\"dataframe\">\n",
       "  <thead>\n",
       "    <tr style=\"text-align: right;\">\n",
       "      <th></th>\n",
       "      <th>NOC</th>\n",
       "      <th>region</th>\n",
       "      <th>notes</th>\n",
       "    </tr>\n",
       "  </thead>\n",
       "  <tbody>\n",
       "    <tr>\n",
       "      <td>0</td>\n",
       "      <td>AFG</td>\n",
       "      <td>Afghanistan</td>\n",
       "      <td>NaN</td>\n",
       "    </tr>\n",
       "    <tr>\n",
       "      <td>1</td>\n",
       "      <td>AHO</td>\n",
       "      <td>Curacao</td>\n",
       "      <td>Netherlands Antilles</td>\n",
       "    </tr>\n",
       "    <tr>\n",
       "      <td>2</td>\n",
       "      <td>ALB</td>\n",
       "      <td>Albania</td>\n",
       "      <td>NaN</td>\n",
       "    </tr>\n",
       "    <tr>\n",
       "      <td>3</td>\n",
       "      <td>ALG</td>\n",
       "      <td>Algeria</td>\n",
       "      <td>NaN</td>\n",
       "    </tr>\n",
       "    <tr>\n",
       "      <td>4</td>\n",
       "      <td>AND</td>\n",
       "      <td>Andorra</td>\n",
       "      <td>NaN</td>\n",
       "    </tr>\n",
       "  </tbody>\n",
       "</table>\n",
       "</div>"
      ],
      "text/plain": [
       "   NOC       region                 notes\n",
       "0  AFG  Afghanistan                   NaN\n",
       "1  AHO      Curacao  Netherlands Antilles\n",
       "2  ALB      Albania                   NaN\n",
       "3  ALG      Algeria                   NaN\n",
       "4  AND      Andorra                   NaN"
      ]
     },
     "execution_count": 285,
     "metadata": {},
     "output_type": "execute_result"
    }
   ],
   "source": [
    "df_noc = pd.read_csv('./data/noc_regions.csv')\n",
    "df_noc.head()"
   ]
  },
  {
   "cell_type": "code",
   "execution_count": 286,
   "metadata": {},
   "outputs": [],
   "source": [
    "# create dictionary with NOC and regions\n",
    "noc_dict = df_noc[['NOC', 'region']].set_index('NOC').to_dict()['region']\n",
    "\n",
    "# add missing entry\n",
    "noc_dict['SGP'] = 'Singapore'"
   ]
  },
  {
   "cell_type": "code",
   "execution_count": 287,
   "metadata": {
    "scrolled": true
   },
   "outputs": [
    {
     "name": "stdout",
     "output_type": "stream",
     "text": [
      "Year:  1896\n",
      "\n",
      "\t New country (NOC):  ['Italy', 'Germany', 'Denmark', 'Sweden', 'USA', 'Hungary', 'Switzerland', 'France', 'Greece', 'Australia', 'UK', 'Austria']\n",
      "\n",
      "\t Disappearing country (NOC): [] \n",
      "\n",
      "\n",
      "Year:  1900\n",
      "\n",
      "\t New country (NOC):  ['Colombia', 'Haiti', 'Argentina', 'India', 'Cuba', 'Mexico', 'Canada', 'Czech Republic', 'Netherlands', 'Brazil', 'Spain', 'Belgium', 'Iran', 'New Zealand', 'Norway', 'Romania', 'Russia', 'Peru', 'Luxembourg']\n",
      "\n",
      "\t Disappearing country (NOC): [] \n",
      "\n",
      "\n",
      "Year:  1904\n",
      "\n",
      "\t New country (NOC):  ['Canada', 'South Africa']\n",
      "\n",
      "\t Disappearing country (NOC): ['Haiti', 'Colombia', 'Sweden', 'Czech Republic', 'New Zealand', 'Romania', 'Argentina', 'India', 'Netherlands', 'Brazil', 'Russia', 'Peru', 'Spain', 'Belgium', 'Luxembourg', 'Iran', 'Denmark', 'Mexico'] \n",
      "\n",
      "\n",
      "Year:  1906\n",
      "\n",
      "\t New country (NOC):  ['Finland', 'Sweden', 'Greece', 'Turkey', 'Czech Republic', 'Netherlands', 'Belgium', 'Denmark', 'Egypt']\n",
      "\n",
      "\t Disappearing country (NOC): ['Cuba', 'Canada', 'South Africa'] \n",
      "\n",
      "\n",
      "Year:  1908\n",
      "\n",
      "\t New country (NOC):  ['South Africa', 'Russia', 'Argentina', 'Iceland', 'Australia']\n",
      "\n",
      "\t Disappearing country (NOC): ['Australia', 'Turkey', 'Greece', 'Egypt'] \n",
      "\n",
      "\n",
      "Year:  1912\n",
      "\n",
      "\t New country (NOC):  ['Japan', 'Serbia', 'Portugal', nan, 'Chile', 'Poland', 'Luxembourg', 'Turkey']\n",
      "\n",
      "\t Disappearing country (NOC): ['Argentina'] \n",
      "\n",
      "\n",
      "Year:  1920\n",
      "\n",
      "\t New country (NOC):  ['Estonia', 'Argentina', 'India', 'Brazil', 'Serbia', 'Spain', 'Monaco', 'Australia', 'Czech Republic', 'New Zealand', 'Egypt']\n",
      "\n",
      "\t Disappearing country (NOC): ['Germany', 'Czech Republic', 'Hungary', 'Iceland', 'Serbia', 'Russia', 'Poland', nan, 'Austria', 'Australia', 'Turkey'] \n",
      "\n",
      "\n",
      "Year:  1924\n",
      "\n",
      "\t New country (NOC):  ['Haiti', 'Latvia', 'Lithuania', 'Hungary', 'Romania', 'Russia', 'Philippines', 'Uruguay', 'Ecuador', 'Cuba', 'Ireland', 'Bulgaria', 'Poland', 'Austria', 'Mexico', 'Turkey']\n",
      "\n",
      "\t Disappearing country (NOC): [] \n",
      "\n",
      "\n",
      "Year:  1928\n",
      "\n",
      "\t New country (NOC):  ['Germany', 'Zimbabwe', 'Malta', 'Panama']\n",
      "\n",
      "\t Disappearing country (NOC): ['Ecuador', 'Russia', 'Brazil'] \n",
      "\n",
      "\n",
      "Year:  1932\n",
      "\n",
      "\t New country (NOC):  ['El Salvador', 'Colombia', 'Guatemala', 'Brazil', 'Peru', 'Venezuela', 'China']\n",
      "\n",
      "\t Disappearing country (NOC): ['Zimbabwe', 'Malta', 'Lithuania', 'Chile', 'Panama', 'Egypt'] \n",
      "\n",
      "\n",
      "Year:  1936\n",
      "\n",
      "\t New country (NOC):  ['Malta', 'Liechtenstein', 'Costa Rica', 'Chile', 'Bermuda', 'Boliva', 'Iceland', 'Afghanistan', 'Egypt']\n",
      "\n",
      "\t Disappearing country (NOC): ['El Salvador', 'Haiti', 'Cuba', 'Venezuela', 'Ireland', 'Spain', 'Guatemala'] \n",
      "\n",
      "\n",
      "Year:  1948\n",
      "\n",
      "\t New country (NOC):  ['Puerto Rico', 'South Korea', 'Panama', 'Guyana', 'Myanmar', 'Sri Lanka', 'Cuba', 'Syria', 'Ireland', 'Iraq', 'Singapore', 'Jamaica', 'Spain', 'Pakistan', 'Venezuela', 'Iran', 'Trinidad', 'Lebanon']\n",
      "\n",
      "\t Disappearing country (NOC): ['Germany', 'Estonia', 'Latvia', 'Japan', 'Romania', 'Bulgaria', 'Costa Rica', 'Boliva'] \n",
      "\n",
      "\n",
      "Year:  1952\n",
      "\n",
      "\t New country (NOC):  ['Germany', 'Nigeria', 'Russia', 'Thailand', 'Germany', 'Bahamas', 'Japan', 'Indonesia', 'Romania', 'China', 'Ghana', 'Curacao', 'Israel', 'Bulgaria', 'Guatemala', 'Vietnam']\n",
      "\n",
      "\t Disappearing country (NOC): ['Malta', 'Colombia', 'Peru', 'Iraq', 'Afghanistan', 'Syria'] \n",
      "\n",
      "\n",
      "Year:  1956\n",
      "\n",
      "\t New country (NOC):  ['Taiwan', 'Cambodia', 'Kenya', 'Colombia', 'Malaysia', 'Fiji', 'Peru', 'Uganda', 'Ethiopia', 'Liberia', 'Malaysia', 'Afghanistan']\n",
      "\n",
      "\t Disappearing country (NOC): ['Germany', 'China', 'Liechtenstein', 'Ghana', 'Monaco', 'Lebanon', 'Guatemala', 'Curacao', 'Panama'] \n",
      "\n",
      "\n",
      "Year:  1960\n",
      "\n",
      "\t New country (NOC):  ['Zimbabwe', 'Haiti', 'Tunisia', 'Malta', 'Zimbabwe', 'Trinidad', 'Sudan', 'San Marino', 'Liechtenstein', 'Ghana', 'Syria', 'Iraq', 'Monaco', 'Lebanon', 'Curacao', 'Panama', 'Morocco']\n",
      "\n",
      "\t Disappearing country (NOC): ['Cambodia', 'Malaysia', 'Jamaica', 'Trinidad', 'Egypt'] \n",
      "\n",
      "\n",
      "Year:  1964\n",
      "\n",
      "\t New country (NOC):  ['Malaysia', 'Dominican Republic', 'Niger', 'Chad', 'Mongolia', 'Tanzania', 'Trinidad', 'Egypt', 'Cambodia', 'Nepal', 'Boliva', 'Mali', 'Zambia', 'Senegal', 'Cameroon', 'Algeria', 'Madagascar', 'Republic of Congo', 'Ivory Coast', 'Costa Rica', 'Jamaica']\n",
      "\n",
      "\t Disappearing country (NOC): ['Zimbabwe', 'Haiti', 'Sudan', 'Malta', 'Trinidad', 'South Africa', 'Indonesia', 'San Marino', 'Syria', 'Singapore', 'Malaysia', 'Fiji'] \n",
      "\n",
      "\n",
      "Year:  1968\n",
      "\n",
      "\t New country (NOC):  ['Malta', 'Honduras', 'Barbados', 'Singapore', 'Guatemala', 'Syria', 'Sierra Leone', 'Democratic Republic of the Congo', 'Guinea', 'Virgin Islands, US', 'Central African Republic', 'Suriname', 'Nicaragua', 'Germany', 'Paraguay', 'San Marino', 'Belize', 'Ecuador', 'Kuwait', 'El Salvador', 'Sudan', 'Indonesia', 'Libya', 'Fiji', 'Germany']\n",
      "\n",
      "\t Disappearing country (NOC): ['Cambodia', 'Zimbabwe', 'Nepal', 'Germany', 'Liberia', 'Republic of Congo'] \n",
      "\n",
      "\n",
      "Year:  1972\n",
      "\n",
      "\t New country (NOC):  ['Albania', 'Swaziland', 'Cambodia', 'Gabon', 'Saudi Arabia', 'Haiti', 'Nepal', 'Somalia', 'North Korea', 'Togo', 'Burkina Faso', 'Benin', 'Lesotho', 'Liberia', 'Malawi', 'Republic of Congo']\n",
      "\n",
      "\t Disappearing country (NOC): ['Democratic Republic of the Congo', 'Honduras', 'Guinea', 'Libya', 'Iraq', 'Sierra Leone', 'Central African Republic'] \n",
      "\n",
      "\n",
      "Year:  1976\n",
      "\n",
      "\t New country (NOC):  ['Papua New Guinea', 'Antigua', 'Andorra', 'Honduras', 'Cayman Islands']\n",
      "\n",
      "\t Disappearing country (NOC): ['Albania', 'Taiwan', 'Gabon', 'Kenya', 'Malta', 'Niger', 'Chad', 'Guyana', 'Myanmar', 'Sri Lanka', 'Benin', 'Liberia', 'Tanzania', 'Vietnam', 'Syria', 'Swaziland', 'Cambodia', 'Uganda', 'Ethiopia', 'Mali', 'Zambia', 'Nigeria', 'Algeria', 'Madagascar', 'Ghana', 'Burkina Faso', 'Afghanistan', 'Lesotho', 'Republic of Congo', 'Somalia', 'El Salvador', 'Sudan', 'Togo', 'Malawi'] \n",
      "\n",
      "\n",
      "Year:  1980\n",
      "\n",
      "\t New country (NOC):  ['Malta', 'Guyana', 'Myanmar', 'Sri Lanka', 'Benin', 'Iraq', 'Tanzania', 'Syria', 'Sierra Leone', 'Vietnam', 'Guinea', 'Uganda', 'Ethiopia', 'Cyprus', 'Mali', 'Zambia', 'Nigeria', 'Algeria', 'Madagascar', 'Botswana', 'Mozambique', 'Jordan', 'Angola', 'Seychelles', 'Lesotho', 'Afghanistan', 'Republic of Congo', 'Laos', 'Zimbabwe', 'Libya']\n",
      "\n",
      "\t Disappearing country (NOC): ['Malaysia', 'Saudi Arabia', 'Thailand', 'Turkey', 'Liechtenstein', 'Honduras', 'Barbados', 'Singapore', 'Curacao', 'Egypt', 'Haiti', 'Japan', 'Argentina', 'China', 'Israel', 'Virgin Islands, US', 'Chile', 'Boliva', 'Panama', 'Suriname', 'Tunisia', 'Canada', 'Paraguay', 'USA', 'Belize', 'Philippines', 'Uruguay', 'Bermuda', 'Iran', 'Morocco', 'Pakistan', 'Papua New Guinea', 'South Korea', 'Norway', 'Bahamas', 'Indonesia', 'Antigua', 'Ivory Coast', 'Cayman Islands', 'Monaco', 'Fiji', 'Germany'] \n",
      "\n",
      "\n",
      "Year:  1984\n",
      "\n",
      "\t New country (NOC):  ['Taiwan', 'Malaysia', 'Gabon', 'Saudi Arabia', 'Thailand', 'Kenya', 'Turkey', 'Tonga', 'Niger', 'Liechtenstein', 'Mauritius', 'Chad', 'Bangladesh', 'Honduras', 'Barbados', 'Singapore', 'Liberia', 'Mauritania', 'Curacao', 'Gambia', 'Egypt', 'Bhutan', 'Swaziland', 'Haiti', 'Japan', 'Democratic Republic of the Congo', 'Argentina', 'Grenada', 'Equatorial Guinea', 'China', 'Rwanda', 'Israel', 'Samoa', 'Virgin Islands, US', 'Chile', 'Boliva', 'Central African Republic', 'Panama', 'Suriname', 'Virgin Islands, British', 'Tunisia', 'Canada', 'Paraguay', 'USA', 'Belize', 'Philippines', 'Uruguay', 'United Arab Emirates', 'Ghana', 'Bermuda', 'China', 'Morocco', 'Pakistan', 'Papua New Guinea', 'Solomon Islands', 'Somalia', 'El Salvador', 'Sudan', 'Qatar', 'Bahamas', 'Norway', 'Indonesia', 'South Korea', 'Antigua', 'Bahrain', 'Togo', 'Ivory Coast', 'Cayman Islands', 'Oman', 'Djibouti', 'Monaco', 'Malawi', 'Fiji', 'Yemen', 'Germany']\n",
      "\n",
      "\t Disappearing country (NOC): ['Laos', 'Russia', 'Germany', 'Hungary', 'North Korea', 'Poland', 'Vietnam', 'Cuba', 'Libya', 'Bulgaria', 'Mongolia', 'Ethiopia', 'Angola', 'Afghanistan', 'Czech Republic'] \n",
      "\n",
      "\n",
      "Year:  1988\n",
      "\n",
      "\t New country (NOC):  ['Guam', 'Maldives', 'Cook Islands', 'Mongolia', 'Yemen', 'Vietnam', 'Bulgaria', 'Czech Republic', 'Russia', 'Germany', 'Hungary', 'Angola', 'Burkina Faso', 'Afghanistan', 'Vanuatu', 'Iran', 'Laos', 'Saint Vincent', 'American Samoa', 'Libya', 'Poland', 'Aruba']\n",
      "\n",
      "\t Disappearing country (NOC): ['Nicaragua', 'Seychelles', 'Madagascar'] \n",
      "\n",
      "\n",
      "Year:  1992\n",
      "\n",
      "\t New country (NOC):  ['Albania', 'Bosnia and Herzegovina', 'Individual Olympic Athletes', 'South Africa', 'Lithuania', 'North Korea', 'Cuba', 'Croatia', 'Ethiopia', 'Slovenia', 'Nicaragua', 'Germany', 'Madagascar', 'Yemen', 'Namibia', 'Russia', 'Seychelles', 'Latvia', 'Estonia']\n",
      "\n",
      "\t Disappearing country (NOC): ['Somalia', 'Russia', 'Germany', 'Serbia', 'Liberia', 'Yemen', 'Afghanistan', 'Yemen', 'Germany'] \n",
      "\n",
      "\n",
      "Year:  1996\n",
      "\n",
      "\t New country (NOC):  ['Saint Kitts', 'Czech Republic', 'Burundi', 'Moldova', 'Georgia', 'Nauru', 'Liberia', 'Kyrgyzstan', 'Cambodia', 'Belarus', 'Palestine', 'Azerbaijan', 'Saint Lucia', 'Brunei', 'Armenia', 'Uzbekistan', 'Serbia', 'Dominica', 'Kazakhstan', 'Turkmenistan', 'Sao Tome and Principe', 'Cape Verde', 'Tajikistan', 'Macedonia', 'Afghanistan', 'Somalia', 'Comoros', 'Ukraine', 'Russia', 'Guinea-Bissau', 'Slovakia']\n",
      "\n",
      "\t Disappearing country (NOC): ['Russia', 'Individual Olympic Athletes', 'Czech Republic'] \n",
      "\n",
      "\n",
      "Year:  2000\n",
      "\n",
      "\t New country (NOC):  ['Micronesia', 'Individual Olympic Athletes', 'Eritrea', 'Palau']\n",
      "\n",
      "\t Disappearing country (NOC): ['Afghanistan'] \n",
      "\n",
      "\n",
      "Year:  2004\n",
      "\n",
      "\t New country (NOC):  ['Kiribati', 'Afghanistan', 'Timor-Leste']\n",
      "\n",
      "\t Disappearing country (NOC): ['Individual Olympic Athletes', 'Djibouti'] \n",
      "\n",
      "\n",
      "Year:  2008\n",
      "\n",
      "\t New country (NOC):  ['Serbia', nan, 'Djibouti', 'Marshall Islands', 'Montenegro']\n",
      "\n",
      "\t Disappearing country (NOC): ['Serbia', 'Brunei'] \n",
      "\n",
      "\n",
      "Year:  2012\n",
      "\n",
      "\t New country (NOC):  ['Individual Olympic Athletes', 'Brunei']\n",
      "\n",
      "\t Disappearing country (NOC): ['Curacao'] \n",
      "\n",
      "\n",
      "Year:  2016\n",
      "\n",
      "\t New country (NOC):  [nan, 'South Sudan', 'Kosovo']\n",
      "\n",
      "\t Disappearing country (NOC): ['Kuwait'] \n",
      "\n",
      "\n"
     ]
    }
   ],
   "source": [
    "for e, d in zip(new_noc, disappearing_noc):\n",
    "    print('Year: ', e[0])\n",
    "    print('\\n\\t New country (NOC): ', [noc_dict[i] for i in e[1]])\n",
    "    print('\\n\\t Disappearing country (NOC):', [noc_dict[i] for i in d[1]],'\\n\\n')"
   ]
  },
  {
   "cell_type": "code",
   "execution_count": 288,
   "metadata": {},
   "outputs": [
    {
     "data": {
      "text/html": [
       "<div>\n",
       "<style scoped>\n",
       "    .dataframe tbody tr th:only-of-type {\n",
       "        vertical-align: middle;\n",
       "    }\n",
       "\n",
       "    .dataframe tbody tr th {\n",
       "        vertical-align: top;\n",
       "    }\n",
       "\n",
       "    .dataframe thead th {\n",
       "        text-align: right;\n",
       "    }\n",
       "</style>\n",
       "<table border=\"1\" class=\"dataframe\">\n",
       "  <thead>\n",
       "    <tr style=\"text-align: right;\">\n",
       "      <th></th>\n",
       "      <th>Year</th>\n",
       "    </tr>\n",
       "    <tr>\n",
       "      <th>NOC</th>\n",
       "      <th></th>\n",
       "    </tr>\n",
       "  </thead>\n",
       "  <tbody>\n",
       "    <tr>\n",
       "      <td>SUI</td>\n",
       "      <td>29</td>\n",
       "    </tr>\n",
       "    <tr>\n",
       "      <td>ITA</td>\n",
       "      <td>29</td>\n",
       "    </tr>\n",
       "    <tr>\n",
       "      <td>GBR</td>\n",
       "      <td>29</td>\n",
       "    </tr>\n",
       "    <tr>\n",
       "      <td>GRE</td>\n",
       "      <td>29</td>\n",
       "    </tr>\n",
       "    <tr>\n",
       "      <td>FRA</td>\n",
       "      <td>29</td>\n",
       "    </tr>\n",
       "    <tr>\n",
       "      <td>...</td>\n",
       "      <td>...</td>\n",
       "    </tr>\n",
       "    <tr>\n",
       "      <td>UAR</td>\n",
       "      <td>1</td>\n",
       "    </tr>\n",
       "    <tr>\n",
       "      <td>KOS</td>\n",
       "      <td>1</td>\n",
       "    </tr>\n",
       "    <tr>\n",
       "      <td>RHO</td>\n",
       "      <td>1</td>\n",
       "    </tr>\n",
       "    <tr>\n",
       "      <td>ROT</td>\n",
       "      <td>1</td>\n",
       "    </tr>\n",
       "    <tr>\n",
       "      <td>SSD</td>\n",
       "      <td>1</td>\n",
       "    </tr>\n",
       "  </tbody>\n",
       "</table>\n",
       "<p>230 rows × 1 columns</p>\n",
       "</div>"
      ],
      "text/plain": [
       "     Year\n",
       "NOC      \n",
       "SUI    29\n",
       "ITA    29\n",
       "GBR    29\n",
       "GRE    29\n",
       "FRA    29\n",
       "..    ...\n",
       "UAR     1\n",
       "KOS     1\n",
       "RHO     1\n",
       "ROT     1\n",
       "SSD     1\n",
       "\n",
       "[230 rows x 1 columns]"
      ]
     },
     "execution_count": 288,
     "metadata": {},
     "output_type": "execute_result"
    }
   ],
   "source": [
    "noc_years = df_athletes[df_athletes.Season == 'Summer'].groupby(['NOC']).agg({'Year':'nunique'})\\\n",
    "            .sort_values('Year', ascending=False)\n",
    "noc_years"
   ]
  },
  {
   "cell_type": "markdown",
   "metadata": {},
   "source": [
    "### Host cities"
   ]
  },
  {
   "cell_type": "code",
   "execution_count": 289,
   "metadata": {},
   "outputs": [],
   "source": [
    "df_cities = pd.read_csv('./data/host_cities.csv')"
   ]
  },
  {
   "cell_type": "code",
   "execution_count": 290,
   "metadata": {},
   "outputs": [],
   "source": [
    "df_host_cities = df_athletes[['City', 'Year']].drop_duplicates().reset_index(drop=True)"
   ]
  },
  {
   "cell_type": "code",
   "execution_count": 291,
   "metadata": {},
   "outputs": [],
   "source": [
    "df_host_cities = df_host_cities.join(df_cities.set_index('City'), on='City')"
   ]
  },
  {
   "cell_type": "code",
   "execution_count": 292,
   "metadata": {},
   "outputs": [
    {
     "name": "stdout",
     "output_type": "stream",
     "text": [
      "Countries hosting both Winter and Summer Events: \n"
     ]
    },
    {
     "data": {
      "text/plain": [
       "{'Canada', 'France', 'Germany', 'Italy', 'Japan', 'Russia', 'USA'}"
      ]
     },
     "execution_count": 292,
     "metadata": {},
     "output_type": "execute_result"
    }
   ],
   "source": [
    "print('Countries hosting both Winter and Summer Events: ')\n",
    "set(df_host_cities[df_host_cities.Season == 'Summer'].Country.unique()).intersection(df_host_cities[df_host_cities.Season == 'Winter'].Country.unique())"
   ]
  },
  {
   "cell_type": "code",
   "execution_count": 293,
   "metadata": {},
   "outputs": [
    {
     "data": {
      "image/png": "[encoded data removed]",
      "text/plain": [
       "<Figure size 1440x360 with 1 Axes>"
      ]
     },
     "metadata": {
      "needs_background": "light"
     },
     "output_type": "display_data"
    }
   ],
   "source": [
    "f, ax = plt.subplots(figsize=(20,5))\n",
    "df_host_cities[df_host_cities['Season'] == 'Summer'].groupby('Country')['City']\\\n",
    "    .count().sort_values().plot(kind='bar', ax=ax, title='Years helding the Summer Olympic Games')\n",
    "ax.set_ylabel('Years helding the Games')\n",
    "ax.set_yticks(range(0,5))\n",
    "plt.show()"
   ]
  },
  {
   "cell_type": "code",
   "execution_count": 294,
   "metadata": {},
   "outputs": [
    {
     "data": {
      "image/png": "[encoded data removed]",
      "text/plain": [
       "<Figure size 1440x360 with 1 Axes>"
      ]
     },
     "metadata": {
      "needs_background": "light"
     },
     "output_type": "display_data"
    }
   ],
   "source": [
    "f, ax = plt.subplots(figsize=(20,5))\n",
    "df_host_cities[df_host_cities['Season'] == 'Summer'].groupby('Continent')['City']\\\n",
    "    .count().sort_values().plot(kind='bar', ax=ax, title='Years helding the Summer Olympic Games')\n",
    "ax.set_ylabel('Years helding the Games')\n",
    "ax.set_yticks(range(0,19,2))\n",
    "plt.show()"
   ]
  },
  {
   "cell_type": "markdown",
   "metadata": {},
   "source": [
    "## Sport point of view"
   ]
  },
  {
   "cell_type": "markdown",
   "metadata": {},
   "source": [
    "### Sports"
   ]
  },
  {
   "cell_type": "code",
   "execution_count": 295,
   "metadata": {},
   "outputs": [
    {
     "data": {
      "text/plain": [
       "Sport\n",
       "Athletics                83\n",
       "Shooting                 83\n",
       "Swimming                 55\n",
       "Cycling                  44\n",
       "Sailing                  38\n",
       "Wrestling                30\n",
       "Art Competitions         29\n",
       "Archery                  29\n",
       "Canoeing                 27\n",
       "Gymnastics               27\n",
       "Rowing                   25\n",
       "Weightlifting            21\n",
       "Equestrianism            18\n",
       "Fencing                  18\n",
       "Judo                     15\n",
       "Boxing                   15\n",
       "Diving                   10\n",
       "Tennis                    9\n",
       "Taekwondo                 8\n",
       "Table Tennis              6\n",
       "Badminton                 5\n",
       "Figure Skating            4\n",
       "Golf                      3\n",
       "Croquet                   3\n",
       "Motorboating              3\n",
       "Modern Pentathlon         3\n",
       "Synchronized Swimming     3\n",
       "Water Polo                2\n",
       "Volleyball                2\n",
       "Triathlon                 2\n",
       "Football                  2\n",
       "Rugby Sevens              2\n",
       "Trampolining              2\n",
       "Hockey                    2\n",
       "Basketball                2\n",
       "Beach Volleyball          2\n",
       "Racquets                  2\n",
       "Rhythmic Gymnastics       2\n",
       "Handball                  2\n",
       "Alpinism                  1\n",
       "Baseball                  1\n",
       "Basque Pelota             1\n",
       "Jeu De Paume              1\n",
       "Cricket                   1\n",
       "Ice Hockey                1\n",
       "Lacrosse                  1\n",
       "Polo                      1\n",
       "Roque                     1\n",
       "Rugby                     1\n",
       "Softball                  1\n",
       "Tug-Of-War                1\n",
       "Aeronautics               1\n",
       "Name: Event, dtype: int64"
      ]
     },
     "execution_count": 295,
     "metadata": {},
     "output_type": "execute_result"
    }
   ],
   "source": [
    "sports_category = df_athletes[df_athletes['Season']=='Summer'].groupby('Sport').nunique()['Event'].sort_values(ascending=False)\n",
    "sports_category"
   ]
  },
  {
   "cell_type": "markdown",
   "metadata": {},
   "source": [
    "We can see that there are sports with a lot of events while there are others with very few of them. This can clearly influence on the number of medals, i.e. the same athlete can win many medals in different events of swimming while in cricket there is only one event."
   ]
  },
  {
   "cell_type": "code",
   "execution_count": 296,
   "metadata": {},
   "outputs": [],
   "source": [
    "sport_event = df_athletes[(df_athletes['Medal']=='Gold') | (df_athletes['Medal']=='Silver')].groupby(['Event', 'Year', 'Medal'], as_index=False).\\\n",
    "                count()[['Event', 'Year', 'Medal', 'ID']].drop_duplicates(['Event', 'Medal'], keep='last')"
   ]
  },
  {
   "cell_type": "code",
   "execution_count": 297,
   "metadata": {},
   "outputs": [],
   "source": [
    "data_sports = []\n",
    "\n",
    "for _, row in sport_event[sport_event['Medal'] == 'Gold'].iterrows():\n",
    "    if 'Men' in row['Event']:\n",
    "        gender = 'M'\n",
    "    elif 'Women' in row['Event']:\n",
    "        gender = 'W'\n",
    "    else:\n",
    "        gender = 'B'\n",
    "    if 'Team' in row['Event'] or 'Doubles' in row['Event']:\n",
    "        type_sport = 'Team'\n",
    "    else:\n",
    "        if row['ID'] == 1:\n",
    "            type_sport = 'Individual'\n",
    "        else:\n",
    "            if len(sport_event[(sport_event['Medal'] == 'Silver') &\n",
    "                          (sport_event['Year'] == row['Year']) &\n",
    "                          (sport_event['Event'] == row['Event'])]) == 0:\n",
    "                if row['ID'] == 2 or row['ID'] == 3: # there was a tie\n",
    "                    type_sport = 'Individual'\n",
    "                else: \n",
    "                    type_sport = 'Team' # there was a tie and it's a team sport\n",
    "            elif sport_event[(sport_event['Medal'] == 'Silver') &\n",
    "                      (sport_event['Year'] == row['Year']) &\n",
    "                      (sport_event['Event'] == row['Event'])]['ID'].values[0] > 1:\n",
    "                type_sport = 'Team' \n",
    "            else:\n",
    "                type_sport = 'Individual' # after analyzing the exceptions, by default\n",
    "                \n",
    "    data_sports.append([row['Event'], type_sport, gender])"
   ]
  },
  {
   "cell_type": "code",
   "execution_count": 298,
   "metadata": {},
   "outputs": [
    {
     "data": {
      "text/html": [
       "<div>\n",
       "<style scoped>\n",
       "    .dataframe tbody tr th:only-of-type {\n",
       "        vertical-align: middle;\n",
       "    }\n",
       "\n",
       "    .dataframe tbody tr th {\n",
       "        vertical-align: top;\n",
       "    }\n",
       "\n",
       "    .dataframe thead th {\n",
       "        text-align: right;\n",
       "    }\n",
       "</style>\n",
       "<table border=\"1\" class=\"dataframe\">\n",
       "  <thead>\n",
       "    <tr style=\"text-align: right;\">\n",
       "      <th></th>\n",
       "      <th>Event</th>\n",
       "      <th>Collectivity</th>\n",
       "      <th>Gender</th>\n",
       "    </tr>\n",
       "  </thead>\n",
       "  <tbody>\n",
       "    <tr>\n",
       "      <td>0</td>\n",
       "      <td>Aeronautics Mixed Aeronautics</td>\n",
       "      <td>Individual</td>\n",
       "      <td>B</td>\n",
       "    </tr>\n",
       "    <tr>\n",
       "      <td>1</td>\n",
       "      <td>Alpine Skiing Men's Combined</td>\n",
       "      <td>Individual</td>\n",
       "      <td>M</td>\n",
       "    </tr>\n",
       "    <tr>\n",
       "      <td>2</td>\n",
       "      <td>Alpine Skiing Men's Downhill</td>\n",
       "      <td>Individual</td>\n",
       "      <td>M</td>\n",
       "    </tr>\n",
       "    <tr>\n",
       "      <td>3</td>\n",
       "      <td>Alpine Skiing Men's Giant Slalom</td>\n",
       "      <td>Individual</td>\n",
       "      <td>M</td>\n",
       "    </tr>\n",
       "    <tr>\n",
       "      <td>4</td>\n",
       "      <td>Alpine Skiing Men's Slalom</td>\n",
       "      <td>Individual</td>\n",
       "      <td>M</td>\n",
       "    </tr>\n",
       "  </tbody>\n",
       "</table>\n",
       "</div>"
      ],
      "text/plain": [
       "                              Event Collectivity Gender\n",
       "0     Aeronautics Mixed Aeronautics   Individual      B\n",
       "1      Alpine Skiing Men's Combined   Individual      M\n",
       "2      Alpine Skiing Men's Downhill   Individual      M\n",
       "3  Alpine Skiing Men's Giant Slalom   Individual      M\n",
       "4        Alpine Skiing Men's Slalom   Individual      M"
      ]
     },
     "execution_count": 298,
     "metadata": {},
     "output_type": "execute_result"
    }
   ],
   "source": [
    "df_events = pd.DataFrame(data_sports, columns=['Event', 'Collectivity', 'Gender'])\n",
    "df_events.head()"
   ]
  },
  {
   "cell_type": "code",
   "execution_count": 299,
   "metadata": {},
   "outputs": [
    {
     "data": {
      "text/plain": [
       "<matplotlib.axes._subplots.AxesSubplot at 0x7fb8889c1090>"
      ]
     },
     "execution_count": 299,
     "metadata": {},
     "output_type": "execute_result"
    },
    {
     "data": {
      "image/png": "[encoded data removed]",
      "text/plain": [
       "<Figure size 720x288 with 1 Axes>"
      ]
     },
     "metadata": {
      "needs_background": "light"
     },
     "output_type": "display_data"
    }
   ],
   "source": [
    "df_events.groupby('Collectivity').count()['Event'].plot(kind='bar', figsize=(10,4))"
   ]
  },
  {
   "cell_type": "code",
   "execution_count": 300,
   "metadata": {},
   "outputs": [
    {
     "data": {
      "text/plain": [
       "<matplotlib.axes._subplots.AxesSubplot at 0x7fb8d8a5ad50>"
      ]
     },
     "execution_count": 300,
     "metadata": {},
     "output_type": "execute_result"
    },
    {
     "data": {
      "image/png": "[encoded data removed]",
      "text/plain": [
       "<Figure size 720x288 with 1 Axes>"
      ]
     },
     "metadata": {
      "needs_background": "light"
     },
     "output_type": "display_data"
    }
   ],
   "source": [
    "# B - both/mixed, M - Men, W - Women\n",
    "df_events.groupby('Gender').count()['Event'].plot(kind='bar', figsize=(10,4))"
   ]
  },
  {
   "cell_type": "code",
   "execution_count": 301,
   "metadata": {},
   "outputs": [],
   "source": [
    "df_athletes = df_athletes.join(df_events.set_index('Event'), on='Event', how='left')"
   ]
  },
  {
   "cell_type": "code",
   "execution_count": 302,
   "metadata": {},
   "outputs": [],
   "source": [
    "sports_type = df_athletes[df_athletes['Season'] == 'Summer'].\\\n",
    "        groupby(['Sport', 'Collectivity']).\\\n",
    "        nunique()['Event']"
   ]
  },
  {
   "cell_type": "code",
   "execution_count": 303,
   "metadata": {},
   "outputs": [
    {
     "name": "stdout",
     "output_type": "stream",
     "text": [
      "Sport             Collectivity\n",
      "Aeronautics       Individual       1\n",
      "Alpinism          Individual       1\n",
      "Archery           Individual      19\n",
      "                  Team             9\n",
      "Art Competitions  Individual      18\n",
      "                                  ..\n",
      "Tug-Of-War        Team             1\n",
      "Volleyball        Team             2\n",
      "Water Polo        Team             2\n",
      "Weightlifting     Individual      21\n",
      "Wrestling         Individual      29\n",
      "Name: Event, Length: 74, dtype: int64\n"
     ]
    }
   ],
   "source": [
    "print(sports_type)"
   ]
  },
  {
   "cell_type": "code",
   "execution_count": 304,
   "metadata": {},
   "outputs": [
    {
     "data": {
      "image/png": "[encoded data removed]",
      "text/plain": [
       "<Figure size 1440x864 with 1 Axes>"
      ]
     },
     "metadata": {
      "needs_background": "light"
     },
     "output_type": "display_data"
    }
   ],
   "source": [
    "sports_type_unstack = sports_type.unstack().fillna(0)\n",
    "sports_type_unstack.assign(tmp=sports_type_unstack.sum(axis=1)).\\\n",
    "        sort_values('tmp').drop('tmp', 1).\\\n",
    "        plot(kind='bar', stacked=True, figsize=(20,12));"
   ]
  },
  {
   "cell_type": "markdown",
   "metadata": {},
   "source": [
    "## Country point of view"
   ]
  },
  {
   "cell_type": "markdown",
   "metadata": {},
   "source": [
    "### Countries with more medals"
   ]
  },
  {
   "cell_type": "markdown",
   "metadata": {},
   "source": [
    "#### Total (both summer and winter games)"
   ]
  },
  {
   "cell_type": "code",
   "execution_count": 305,
   "metadata": {},
   "outputs": [],
   "source": [
    "medals = df_athletes.dropna().groupby(['NOC', 'Event', 'Collectivity', 'Year', 'Sex', 'Medal'], \\\n",
    "                as_index=False).count()\\\n",
    "                [['NOC', 'Event', 'Collectivity', 'Year', 'Sex', 'Medal', 'ID']]\n",
    "\n",
    "medals.loc[medals['Collectivity']=='Team', 'ID'] = 1"
   ]
  },
  {
   "cell_type": "code",
   "execution_count": 306,
   "metadata": {},
   "outputs": [],
   "source": [
    "medals_country = medals.groupby(['Sex', 'NOC', 'Medal']).sum().reset_index()[['Sex', 'NOC', 'Medal', 'ID']]"
   ]
  },
  {
   "cell_type": "code",
   "execution_count": 307,
   "metadata": {},
   "outputs": [
    {
     "data": {
      "image/png": "[encoded data removed]",
      "text/plain": [
       "<Figure size 1440x360 with 3 Axes>"
      ]
     },
     "metadata": {
      "needs_background": "light"
     },
     "output_type": "display_data"
    }
   ],
   "source": [
    "f, ax = plt.subplots(1,3, figsize=(20,5), sharey=True)\n",
    "for idx, med in enumerate(['Gold', 'Silver', 'Bronze']):\n",
    "    comitee = pd.pivot_table(medals_country[medals_country.Medal == med], index='NOC', columns='Sex').fillna(0)\n",
    "    comitee[('ID', 'Total')] = comitee[('ID', 'F')] + comitee[('ID', 'M')]\n",
    "    comitee.sort_values([('ID', 'Total')]).iloc[-20:,:2].plot(kind='bar', stacked=True, ax=ax[idx], title='Comitee with highest number of {} medals'.format(med))"
   ]
  },
  {
   "cell_type": "markdown",
   "metadata": {},
   "source": [
    "#### Summer Games"
   ]
  },
  {
   "cell_type": "code",
   "execution_count": 308,
   "metadata": {},
   "outputs": [],
   "source": [
    "medals_summer = df_athletes[df_athletes['Season'] == 'Summer'].dropna().\\\n",
    "                groupby(['NOC', 'Event', 'Collectivity', 'Year', 'Sex', 'Medal'], \\\n",
    "                as_index=False).count()\\\n",
    "                [['NOC', 'Event', 'Collectivity', 'Year', 'Sex', 'Medal', 'ID']]\n",
    "\n",
    "medals_summer.loc[medals_summer['Collectivity']=='Team', 'ID'] = 1"
   ]
  },
  {
   "cell_type": "code",
   "execution_count": 309,
   "metadata": {},
   "outputs": [],
   "source": [
    "medals_summer_country = medals_summer.groupby(['Sex', 'NOC', 'Medal']).\\\n",
    "                    sum().reset_index()[['Sex', 'NOC', 'Medal', 'ID']]"
   ]
  },
  {
   "cell_type": "code",
   "execution_count": 310,
   "metadata": {
    "scrolled": true
   },
   "outputs": [
    {
     "data": {
      "image/png": "[encoded data removed]",
      "text/plain": [
       "<Figure size 1440x360 with 3 Axes>"
      ]
     },
     "metadata": {
      "needs_background": "light"
     },
     "output_type": "display_data"
    }
   ],
   "source": [
    "f, ax = plt.subplots(1,3, figsize=(20,5), sharey=True)\n",
    "for idx, med in enumerate(['Gold', 'Silver', 'Bronze']):\n",
    "    comitee = pd.pivot_table(medals_summer_country[medals_summer_country.Medal == med], index='NOC', columns='Sex').fillna(0)\n",
    "    comitee[('ID', 'Total')] = comitee[('ID', 'F')] + comitee[('ID', 'M')]\n",
    "    comitee.sort_values([('ID', 'Total')]).iloc[-20:,:2].plot(kind='bar', stacked=True, ax=ax[idx], title='Comitee with highest number of {} medals'.format(med))"
   ]
  },
  {
   "cell_type": "markdown",
   "metadata": {},
   "source": [
    "#### Winter Games"
   ]
  },
  {
   "cell_type": "code",
   "execution_count": 311,
   "metadata": {},
   "outputs": [],
   "source": [
    "medals_winter = df_athletes[df_athletes['Season'] == 'Winter'].dropna().\\\n",
    "                groupby(['NOC', 'Event', 'Collectivity', 'Year', 'Sex', 'Medal'], \\\n",
    "                as_index=False).count()\\\n",
    "                [['NOC', 'Event', 'Collectivity', 'Year', 'Sex', 'Medal', 'ID']]\n",
    "\n",
    "medals_winter.loc[medals_winter['Collectivity']=='Team', 'ID'] = 1"
   ]
  },
  {
   "cell_type": "code",
   "execution_count": 312,
   "metadata": {},
   "outputs": [],
   "source": [
    "medals_winter_country = medals_winter.groupby(['Sex', 'NOC', 'Medal']).\\\n",
    "                    sum().reset_index()[['Sex', 'NOC', 'Medal', 'ID']]"
   ]
  },
  {
   "cell_type": "code",
   "execution_count": 313,
   "metadata": {},
   "outputs": [
    {
     "data": {
      "image/png": "[encoded data removed]",
      "text/plain": [
       "<Figure size 1440x360 with 3 Axes>"
      ]
     },
     "metadata": {
      "needs_background": "light"
     },
     "output_type": "display_data"
    }
   ],
   "source": [
    "f, ax = plt.subplots(1,3, figsize=(20,5), sharey=True)\n",
    "for idx, med in enumerate(['Gold', 'Silver', 'Bronze']):\n",
    "    comitee = pd.pivot_table(medals_winter_country[medals_winter_country.Medal == med], index='NOC', columns='Sex').fillna(0)\n",
    "    comitee[('ID', 'Total')] = comitee[('ID', 'F')] + comitee[('ID', 'M')]\n",
    "    comitee.sort_values([('ID', 'Total')]).iloc[-20:,:2].plot(kind='bar', stacked=True, ax=ax[idx], title='Comitee with highest number of {} medals'.format(med))"
   ]
  },
  {
   "cell_type": "markdown",
   "metadata": {},
   "source": [
    "## Country point of view - per sport\n",
    "### All Seasons\n",
    "the result is visible [here](https://github.com/com-480-data-visualization/com-480-project-knn-viz/blob/master/data/top_countries_sports.csv)"
   ]
  },
  {
   "cell_type": "code",
   "execution_count": 314,
   "metadata": {},
   "outputs": [],
   "source": [
    "# for the most major sports, get list of top countries in terms of medals.\n",
    "\n",
    "major_sports = pd.DataFrame(df_athletes[['Games','Sport']].drop_duplicates().groupby('Sport').size().\\\n",
    "                            sort_values(0,ascending=False).head(50)).index\n",
    "\n",
    "sport_countries = df_athletes[['Team','NOC','Year','Season','Sport','Medal']].dropna()\n",
    "sport_countries = pd.DataFrame(sport_countries[sport_countries.Sport.apply(lambda x : x in major_sports)]\\\n",
    "                               .groupby(['Season','Sport','NOC']).size())\n",
    "\n",
    "sport_countries = sport_countries.rename(columns={0:'medals'})\n",
    "sport_countries = sport_countries.sort_values(['Season','Sport','medals'], ascending=(True, True, False))\n",
    "\n",
    "sport_countries['rank'] = sport_countries.groupby(['Season','Sport']).rank(ascending=False).medals\n",
    "sport_countries[sport_countries['rank']<6].to_csv('data/top_countries_sports.csv')\n"
   ]
  },
  {
   "cell_type": "markdown",
   "metadata": {},
   "source": [
    "## Athlete point of view"
   ]
  },
  {
   "cell_type": "markdown",
   "metadata": {},
   "source": [
    "### Who has more medals?"
   ]
  },
  {
   "cell_type": "code",
   "execution_count": 315,
   "metadata": {},
   "outputs": [],
   "source": [
    "count_medals = df_athletes.groupby(['Name', 'Medal']).agg({'Sport':'count'}).\\\n",
    "                rename(columns={'Sport':'total'}).reset_index()"
   ]
  },
  {
   "cell_type": "markdown",
   "metadata": {},
   "source": [
    "**Greatest number of GOLD MEDALS**"
   ]
  },
  {
   "cell_type": "code",
   "execution_count": 316,
   "metadata": {},
   "outputs": [
    {
     "data": {
      "text/html": [
       "<div>\n",
       "<style scoped>\n",
       "    .dataframe tbody tr th:only-of-type {\n",
       "        vertical-align: middle;\n",
       "    }\n",
       "\n",
       "    .dataframe tbody tr th {\n",
       "        vertical-align: top;\n",
       "    }\n",
       "\n",
       "    .dataframe thead th {\n",
       "        text-align: right;\n",
       "    }\n",
       "</style>\n",
       "<table border=\"1\" class=\"dataframe\">\n",
       "  <thead>\n",
       "    <tr style=\"text-align: right;\">\n",
       "      <th></th>\n",
       "      <th>Name</th>\n",
       "      <th>Medal</th>\n",
       "      <th>total</th>\n",
       "    </tr>\n",
       "  </thead>\n",
       "  <tbody>\n",
       "    <tr>\n",
       "      <td>21615</td>\n",
       "      <td>Michael Fred Phelps, II</td>\n",
       "      <td>Gold</td>\n",
       "      <td>23</td>\n",
       "    </tr>\n",
       "    <tr>\n",
       "      <td>25624</td>\n",
       "      <td>Raymond Clarence \"Ray\" Ewry</td>\n",
       "      <td>Gold</td>\n",
       "      <td>10</td>\n",
       "    </tr>\n",
       "    <tr>\n",
       "      <td>24072</td>\n",
       "      <td>Paavo Johannes Nurmi</td>\n",
       "      <td>Gold</td>\n",
       "      <td>9</td>\n",
       "    </tr>\n",
       "    <tr>\n",
       "      <td>18261</td>\n",
       "      <td>Larysa Semenivna Latynina (Diriy-)</td>\n",
       "      <td>Gold</td>\n",
       "      <td>9</td>\n",
       "    </tr>\n",
       "    <tr>\n",
       "      <td>20684</td>\n",
       "      <td>Mark Andrew Spitz</td>\n",
       "      <td>Gold</td>\n",
       "      <td>9</td>\n",
       "    </tr>\n",
       "    <tr>\n",
       "      <td>9349</td>\n",
       "      <td>Frederick Carlton \"Carl\" Lewis</td>\n",
       "      <td>Gold</td>\n",
       "      <td>9</td>\n",
       "    </tr>\n",
       "    <tr>\n",
       "      <td>14576</td>\n",
       "      <td>Jennifer Elisabeth \"Jenny\" Thompson (-Cumpelik)</td>\n",
       "      <td>Gold</td>\n",
       "      <td>8</td>\n",
       "    </tr>\n",
       "    <tr>\n",
       "      <td>3626</td>\n",
       "      <td>Birgit Fischer-Schmidt</td>\n",
       "      <td>Gold</td>\n",
       "      <td>8</td>\n",
       "    </tr>\n",
       "    <tr>\n",
       "      <td>21196</td>\n",
       "      <td>Matthew Nicholas \"Matt\" Biondi</td>\n",
       "      <td>Gold</td>\n",
       "      <td>8</td>\n",
       "    </tr>\n",
       "    <tr>\n",
       "      <td>27440</td>\n",
       "      <td>Sawao Kato</td>\n",
       "      <td>Gold</td>\n",
       "      <td>8</td>\n",
       "    </tr>\n",
       "  </tbody>\n",
       "</table>\n",
       "</div>"
      ],
      "text/plain": [
       "                                                  Name Medal  total\n",
       "21615                          Michael Fred Phelps, II  Gold     23\n",
       "25624                      Raymond Clarence \"Ray\" Ewry  Gold     10\n",
       "24072                             Paavo Johannes Nurmi  Gold      9\n",
       "18261               Larysa Semenivna Latynina (Diriy-)  Gold      9\n",
       "20684                                Mark Andrew Spitz  Gold      9\n",
       "9349                    Frederick Carlton \"Carl\" Lewis  Gold      9\n",
       "14576  Jennifer Elisabeth \"Jenny\" Thompson (-Cumpelik)  Gold      8\n",
       "3626                            Birgit Fischer-Schmidt  Gold      8\n",
       "21196                   Matthew Nicholas \"Matt\" Biondi  Gold      8\n",
       "27440                                       Sawao Kato  Gold      8"
      ]
     },
     "execution_count": 316,
     "metadata": {},
     "output_type": "execute_result"
    }
   ],
   "source": [
    "count_medals[count_medals.Medal == 'Gold'].sort_values('total', ascending=False).head(10)"
   ]
  },
  {
   "cell_type": "markdown",
   "metadata": {},
   "source": [
    "**Greatest number of SILVER MEDALS**"
   ]
  },
  {
   "cell_type": "code",
   "execution_count": 317,
   "metadata": {},
   "outputs": [
    {
     "data": {
      "text/html": [
       "<div>\n",
       "<style scoped>\n",
       "    .dataframe tbody tr th:only-of-type {\n",
       "        vertical-align: middle;\n",
       "    }\n",
       "\n",
       "    .dataframe tbody tr th {\n",
       "        vertical-align: top;\n",
       "    }\n",
       "\n",
       "    .dataframe thead th {\n",
       "        text-align: right;\n",
       "    }\n",
       "</style>\n",
       "<table border=\"1\" class=\"dataframe\">\n",
       "  <thead>\n",
       "    <tr style=\"text-align: right;\">\n",
       "      <th></th>\n",
       "      <th>Name</th>\n",
       "      <th>Medal</th>\n",
       "      <th>total</th>\n",
       "    </tr>\n",
       "  </thead>\n",
       "  <tbody>\n",
       "    <tr>\n",
       "      <td>21994</td>\n",
       "      <td>Mikhail Yakovlevich Voronin</td>\n",
       "      <td>Silver</td>\n",
       "      <td>6</td>\n",
       "    </tr>\n",
       "    <tr>\n",
       "      <td>27949</td>\n",
       "      <td>Shirley Frances Babashoff</td>\n",
       "      <td>Silver</td>\n",
       "      <td>6</td>\n",
       "    </tr>\n",
       "    <tr>\n",
       "      <td>666</td>\n",
       "      <td>Aleksandr Nikolayevich Dityatin</td>\n",
       "      <td>Silver</td>\n",
       "      <td>6</td>\n",
       "    </tr>\n",
       "    <tr>\n",
       "      <td>747</td>\n",
       "      <td>Aleksandr Vladimirovich Popov</td>\n",
       "      <td>Silver</td>\n",
       "      <td>6</td>\n",
       "    </tr>\n",
       "    <tr>\n",
       "      <td>32564</td>\n",
       "      <td>Yang Yang</td>\n",
       "      <td>Silver</td>\n",
       "      <td>6</td>\n",
       "    </tr>\n",
       "    <tr>\n",
       "      <td>7256</td>\n",
       "      <td>Edoardo Mangiarotti</td>\n",
       "      <td>Silver</td>\n",
       "      <td>5</td>\n",
       "    </tr>\n",
       "    <tr>\n",
       "      <td>16919</td>\n",
       "      <td>Katalin Kovcs</td>\n",
       "      <td>Silver</td>\n",
       "      <td>5</td>\n",
       "    </tr>\n",
       "    <tr>\n",
       "      <td>18580</td>\n",
       "      <td>Leisel Marie Jones</td>\n",
       "      <td>Silver</td>\n",
       "      <td>5</td>\n",
       "    </tr>\n",
       "    <tr>\n",
       "      <td>31018</td>\n",
       "      <td>Viktor Nikitovich Lisitsky</td>\n",
       "      <td>Silver</td>\n",
       "      <td>5</td>\n",
       "    </tr>\n",
       "    <tr>\n",
       "      <td>1726</td>\n",
       "      <td>Andrea Ehrig-Schne-Mitscherlich</td>\n",
       "      <td>Silver</td>\n",
       "      <td>5</td>\n",
       "    </tr>\n",
       "  </tbody>\n",
       "</table>\n",
       "</div>"
      ],
      "text/plain": [
       "                                  Name   Medal  total\n",
       "21994      Mikhail Yakovlevich Voronin  Silver      6\n",
       "27949        Shirley Frances Babashoff  Silver      6\n",
       "666    Aleksandr Nikolayevich Dityatin  Silver      6\n",
       "747      Aleksandr Vladimirovich Popov  Silver      6\n",
       "32564                        Yang Yang  Silver      6\n",
       "7256               Edoardo Mangiarotti  Silver      5\n",
       "16919                    Katalin Kovcs  Silver      5\n",
       "18580               Leisel Marie Jones  Silver      5\n",
       "31018       Viktor Nikitovich Lisitsky  Silver      5\n",
       "1726   Andrea Ehrig-Schne-Mitscherlich  Silver      5"
      ]
     },
     "execution_count": 317,
     "metadata": {},
     "output_type": "execute_result"
    }
   ],
   "source": [
    "count_medals[count_medals.Medal == 'Silver'].sort_values('total', ascending=False).head(10)"
   ]
  },
  {
   "cell_type": "markdown",
   "metadata": {},
   "source": [
    "**Greatest number of BRONZE MEDALS**"
   ]
  },
  {
   "cell_type": "code",
   "execution_count": 318,
   "metadata": {},
   "outputs": [
    {
     "data": {
      "text/html": [
       "<div>\n",
       "<style scoped>\n",
       "    .dataframe tbody tr th:only-of-type {\n",
       "        vertical-align: middle;\n",
       "    }\n",
       "\n",
       "    .dataframe tbody tr th {\n",
       "        vertical-align: top;\n",
       "    }\n",
       "\n",
       "    .dataframe thead th {\n",
       "        text-align: right;\n",
       "    }\n",
       "</style>\n",
       "<table border=\"1\" class=\"dataframe\">\n",
       "  <thead>\n",
       "    <tr style=\"text-align: right;\">\n",
       "      <th></th>\n",
       "      <th>Name</th>\n",
       "      <th>Medal</th>\n",
       "      <th>total</th>\n",
       "    </tr>\n",
       "  </thead>\n",
       "  <tbody>\n",
       "    <tr>\n",
       "      <td>863</td>\n",
       "      <td>Aleksey Yuryevich Nemov</td>\n",
       "      <td>Bronze</td>\n",
       "      <td>6</td>\n",
       "    </tr>\n",
       "    <tr>\n",
       "      <td>11637</td>\n",
       "      <td>Harri Tapani Kirvesniemi</td>\n",
       "      <td>Bronze</td>\n",
       "      <td>6</td>\n",
       "    </tr>\n",
       "    <tr>\n",
       "      <td>11851</td>\n",
       "      <td>Heikki Ilmari Savolainen</td>\n",
       "      <td>Bronze</td>\n",
       "      <td>6</td>\n",
       "    </tr>\n",
       "    <tr>\n",
       "      <td>9300</td>\n",
       "      <td>Franziska van Almsick</td>\n",
       "      <td>Bronze</td>\n",
       "      <td>6</td>\n",
       "    </tr>\n",
       "    <tr>\n",
       "      <td>21505</td>\n",
       "      <td>Merlene Joyce Ottey-Page</td>\n",
       "      <td>Bronze</td>\n",
       "      <td>6</td>\n",
       "    </tr>\n",
       "    <tr>\n",
       "      <td>210</td>\n",
       "      <td>Adrianus Egbert Willem \"Arie\" de Jong</td>\n",
       "      <td>Bronze</td>\n",
       "      <td>5</td>\n",
       "    </tr>\n",
       "    <tr>\n",
       "      <td>24969</td>\n",
       "      <td>Philip Aron \"Phil\" Edwards</td>\n",
       "      <td>Bronze</td>\n",
       "      <td>5</td>\n",
       "    </tr>\n",
       "    <tr>\n",
       "      <td>22629</td>\n",
       "      <td>Natalie Anne Coughlin (-Hall)</td>\n",
       "      <td>Bronze</td>\n",
       "      <td>5</td>\n",
       "    </tr>\n",
       "    <tr>\n",
       "      <td>2495</td>\n",
       "      <td>Antje Buschschulte (-Meeuw)</td>\n",
       "      <td>Bronze</td>\n",
       "      <td>5</td>\n",
       "    </tr>\n",
       "    <tr>\n",
       "      <td>5938</td>\n",
       "      <td>Daniel Jean Claude Ernest Revenu</td>\n",
       "      <td>Bronze</td>\n",
       "      <td>5</td>\n",
       "    </tr>\n",
       "  </tbody>\n",
       "</table>\n",
       "</div>"
      ],
      "text/plain": [
       "                                        Name   Medal  total\n",
       "863                  Aleksey Yuryevich Nemov  Bronze      6\n",
       "11637               Harri Tapani Kirvesniemi  Bronze      6\n",
       "11851               Heikki Ilmari Savolainen  Bronze      6\n",
       "9300                   Franziska van Almsick  Bronze      6\n",
       "21505               Merlene Joyce Ottey-Page  Bronze      6\n",
       "210    Adrianus Egbert Willem \"Arie\" de Jong  Bronze      5\n",
       "24969             Philip Aron \"Phil\" Edwards  Bronze      5\n",
       "22629          Natalie Anne Coughlin (-Hall)  Bronze      5\n",
       "2495             Antje Buschschulte (-Meeuw)  Bronze      5\n",
       "5938        Daniel Jean Claude Ernest Revenu  Bronze      5"
      ]
     },
     "execution_count": 318,
     "metadata": {},
     "output_type": "execute_result"
    }
   ],
   "source": [
    "count_medals[count_medals.Medal == 'Bronze'].sort_values('total', ascending=False).head(10)"
   ]
  },
  {
   "cell_type": "markdown",
   "metadata": {},
   "source": [
    "**Greatest number of MEDALS**"
   ]
  },
  {
   "cell_type": "code",
   "execution_count": 319,
   "metadata": {},
   "outputs": [
    {
     "data": {
      "text/html": [
       "<div>\n",
       "<style scoped>\n",
       "    .dataframe tbody tr th:only-of-type {\n",
       "        vertical-align: middle;\n",
       "    }\n",
       "\n",
       "    .dataframe tbody tr th {\n",
       "        vertical-align: top;\n",
       "    }\n",
       "\n",
       "    .dataframe thead th {\n",
       "        text-align: right;\n",
       "    }\n",
       "</style>\n",
       "<table border=\"1\" class=\"dataframe\">\n",
       "  <thead>\n",
       "    <tr style=\"text-align: right;\">\n",
       "      <th></th>\n",
       "      <th>total</th>\n",
       "    </tr>\n",
       "    <tr>\n",
       "      <th>Name</th>\n",
       "      <th></th>\n",
       "    </tr>\n",
       "  </thead>\n",
       "  <tbody>\n",
       "    <tr>\n",
       "      <td>Michael Fred Phelps, II</td>\n",
       "      <td>28</td>\n",
       "    </tr>\n",
       "    <tr>\n",
       "      <td>Larysa Semenivna Latynina (Diriy-)</td>\n",
       "      <td>18</td>\n",
       "    </tr>\n",
       "    <tr>\n",
       "      <td>Nikolay Yefimovich Andrianov</td>\n",
       "      <td>15</td>\n",
       "    </tr>\n",
       "    <tr>\n",
       "      <td>Borys Anfiyanovych Shakhlin</td>\n",
       "      <td>13</td>\n",
       "    </tr>\n",
       "    <tr>\n",
       "      <td>Takashi Ono</td>\n",
       "      <td>13</td>\n",
       "    </tr>\n",
       "    <tr>\n",
       "      <td>Ole Einar Bjrndalen</td>\n",
       "      <td>13</td>\n",
       "    </tr>\n",
       "    <tr>\n",
       "      <td>Edoardo Mangiarotti</td>\n",
       "      <td>13</td>\n",
       "    </tr>\n",
       "    <tr>\n",
       "      <td>Ryan Steven Lochte</td>\n",
       "      <td>12</td>\n",
       "    </tr>\n",
       "    <tr>\n",
       "      <td>Birgit Fischer-Schmidt</td>\n",
       "      <td>12</td>\n",
       "    </tr>\n",
       "    <tr>\n",
       "      <td>Paavo Johannes Nurmi</td>\n",
       "      <td>12</td>\n",
       "    </tr>\n",
       "  </tbody>\n",
       "</table>\n",
       "</div>"
      ],
      "text/plain": [
       "                                    total\n",
       "Name                                     \n",
       "Michael Fred Phelps, II                28\n",
       "Larysa Semenivna Latynina (Diriy-)     18\n",
       "Nikolay Yefimovich Andrianov           15\n",
       "Borys Anfiyanovych Shakhlin            13\n",
       "Takashi Ono                            13\n",
       "Ole Einar Bjrndalen                    13\n",
       "Edoardo Mangiarotti                    13\n",
       "Ryan Steven Lochte                     12\n",
       "Birgit Fischer-Schmidt                 12\n",
       "Paavo Johannes Nurmi                   12"
      ]
     },
     "execution_count": 319,
     "metadata": {},
     "output_type": "execute_result"
    }
   ],
   "source": [
    "count_medals.groupby('Name').sum().sort_values('total', ascending=False).head(10)"
   ]
  },
  {
   "cell_type": "markdown",
   "metadata": {},
   "source": [
    "### Who has participated more years?"
   ]
  },
  {
   "cell_type": "code",
   "execution_count": null,
   "metadata": {},
   "outputs": [],
   "source": [
    "ath_year_sport = df_athletes.groupby(['Name']).agg({\n",
    "    'Year':'nunique', 'Sport':'unique'\n",
    "})"
   ]
  },
  {
   "cell_type": "code",
   "execution_count": null,
   "metadata": {},
   "outputs": [],
   "source": [
    "ath_year_sport.sort_values(['Year', 'Name'], ascending=False).head(15)"
   ]
  },
  {
   "cell_type": "code",
   "execution_count": null,
   "metadata": {},
   "outputs": [],
   "source": [
    "df_athletes[df_athletes.Name == ath_year_sport.sort_values('Year', ascending=False).reset_index().iloc[0,0]].\\\n",
    "groupby(['Name','Year', 'Season', 'Sport']).agg({\n",
    "    'type_event':'unique', 'Medal':['unique','nunique']\n",
    "})"
   ]
  },
  {
   "cell_type": "code",
   "execution_count": null,
   "metadata": {},
   "outputs": [],
   "source": [
    "df_athletes[df_athletes.Name == ath_year_sport.sort_values('Year', ascending=False).reset_index().iloc[1,0]].\\\n",
    "groupby(['Name','Year', 'Season', 'Sport']).agg({\n",
    "    'type_event':'unique', 'Medal':['unique','nunique']\n",
    "})"
   ]
  },
  {
   "cell_type": "code",
   "execution_count": null,
   "metadata": {},
   "outputs": [],
   "source": [
    "df_athletes[df_athletes.Name == ath_year_sport.sort_values('Year', ascending=False).reset_index().iloc[2,0]].\\\n",
    "groupby(['Name','Year', 'Season', 'Sport']).agg({\n",
    "    'type_event':'unique', 'Medal':['unique','nunique']\n",
    "})"
   ]
  },
  {
   "cell_type": "markdown",
   "metadata": {},
   "source": [
    "### Who has participated in greater number of different sports?"
   ]
  },
  {
   "cell_type": "code",
   "execution_count": null,
   "metadata": {},
   "outputs": [],
   "source": [
    "ath_year_sport['number_Sports'] = ath_year_sport['Sport'].apply(lambda x: len(x))"
   ]
  },
  {
   "cell_type": "code",
   "execution_count": null,
   "metadata": {},
   "outputs": [],
   "source": [
    "ath_year_sport.sort_values('number_Sports', ascending=False).head(10)"
   ]
  },
  {
   "cell_type": "code",
   "execution_count": null,
   "metadata": {},
   "outputs": [],
   "source": [
    "df_athletes[df_athletes.Name == ath_year_sport.sort_values('number_Sports', ascending=False).reset_index().iloc[0,0]].\\\n",
    "groupby(['Name','Year', 'Season', 'Sport']).agg({\n",
    "    'type_event':'unique', 'Medal':['unique','nunique']\n",
    "})"
   ]
  },
  {
   "cell_type": "code",
   "execution_count": null,
   "metadata": {},
   "outputs": [],
   "source": [
    "df_athletes[df_athletes.Name == ath_year_sport.sort_values('number_Sports', ascending=False).reset_index().iloc[1,0]].\\\n",
    "groupby(['Name','Year', 'Season', 'Sport']).agg({\n",
    "    'type_event':'unique', 'Medal':['unique','nunique']\n",
    "})"
   ]
  },
  {
   "cell_type": "code",
   "execution_count": null,
   "metadata": {},
   "outputs": [],
   "source": [
    "df_athletes[df_athletes.Name == ath_year_sport.sort_values('number_Sports', ascending=False).reset_index().iloc[2,0]].\\\n",
    "groupby(['Name','Year', 'Season', 'Sport']).agg({\n",
    "    'type_event':'unique', 'Medal':['unique','nunique']\n",
    "})"
   ]
  },
  {
   "cell_type": "markdown",
   "metadata": {},
   "source": [
    "### Who has taken part in both Summer and Winter Olympics?"
   ]
  },
  {
   "cell_type": "code",
   "execution_count": null,
   "metadata": {},
   "outputs": [],
   "source": [
    "df_athletes[df_athletes.Name.isin(list(a.intersection(b)))].groupby('Name').agg({\n",
    "    'Sport':['unique', 'nunique'], 'NOC':['unique'], 'Year':['unique', 'nunique'], 'Medal':['unique']\n",
    "}).sort_values(('Sport','nunique'), ascending=False)"
   ]
  }
 ],
 "metadata": {
  "kernelspec": {
   "display_name": "Python 3",
   "language": "python",
   "name": "python3"
  },
  "language_info": {
   "codemirror_mode": {
    "name": "ipython",
    "version": 3
   },
   "file_extension": ".py",
   "mimetype": "text/x-python",
   "name": "python",
   "nbconvert_exporter": "python",
   "pygments_lexer": "ipython3",
   "version": "3.7.4"
  }
 },
 "nbformat": 4,
 "nbformat_minor": 4
}
