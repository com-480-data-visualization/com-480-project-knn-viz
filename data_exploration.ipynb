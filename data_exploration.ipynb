{
 "cells": [
  {
   "cell_type": "markdown",
   "metadata": {},
   "source": [
    "## Data Exploration - 120 years of Olympics"
   ]
  },
  {
   "cell_type": "code",
   "execution_count": null,
   "metadata": {},
   "outputs": [],
   "source": [
    "import numpy as np\n",
    "import pandas as pd\n",
    "import matplotlib.pyplot as plt"
   ]
  },
  {
   "cell_type": "code",
   "execution_count": null,
   "metadata": {},
   "outputs": [],
   "source": [
    "df_athletes = pd.read_csv('./data/athlete_events.csv')"
   ]
  },
  {
   "cell_type": "code",
   "execution_count": null,
   "metadata": {},
   "outputs": [],
   "source": [
    "print('Number of entries {}'.format(df_athletes.shape[0]))\n",
    "print('Features:')\n",
    "for x in list(df_athletes.columns):\n",
    "    print('\\t *\\t{}'.format(x))"
   ]
  },
  {
   "cell_type": "code",
   "execution_count": null,
   "metadata": {},
   "outputs": [],
   "source": [
    "df_athletes.head()"
   ]
  },
  {
   "cell_type": "markdown",
   "metadata": {},
   "source": [
    "### Countries with more medals"
   ]
  },
  {
   "cell_type": "code",
   "execution_count": null,
   "metadata": {},
   "outputs": [],
   "source": [
    "medals = df_athletes.dropna().groupby(['Sex', 'NOC', 'Medal']).count().reset_index()"
   ]
  },
  {
   "cell_type": "code",
   "execution_count": null,
   "metadata": {},
   "outputs": [],
   "source": [
    "f, ax = plt.subplots(1,3, figsize=(20,5), sharey=True)\n",
    "for idx, med in enumerate(['Gold', 'Silver', 'Bronze']):\n",
    "    comitee = pd.pivot_table(medals[medals.Medal == med], index='NOC', columns='Sex').fillna(0)\n",
    "    comitee[('ID', 'Total')] = comitee[('ID', 'F')] + comitee[('ID', 'M')]\n",
    "    comitee.sort_values([('ID', 'Total')]).iloc[-20:,:2].plot(kind='bar', stacked=True, ax=ax[idx], title='Comitee with highest number of {} medals'.format(med))"
   ]
  },
  {
   "cell_type": "markdown",
   "metadata": {},
   "source": [
    "#### Summer Games"
   ]
  },
  {
   "cell_type": "code",
   "execution_count": null,
   "metadata": {},
   "outputs": [],
   "source": [
    "medals_summer = df_athletes[df_athletes['Season'] == 'Summer'].dropna().groupby(['Sex', 'NOC', 'Medal'])\\\n",
    "                .count().reset_index()"
   ]
  },
  {
   "cell_type": "code",
   "execution_count": null,
   "metadata": {
    "scrolled": true
   },
   "outputs": [],
   "source": [
    "f, ax = plt.subplots(1,3, figsize=(20,5), sharey=True)\n",
    "for idx, med in enumerate(['Gold', 'Silver', 'Bronze']):\n",
    "    comitee = pd.pivot_table(medals_summer[medals_summer.Medal == med], index='NOC', columns='Sex').fillna(0)\n",
    "    comitee[('ID', 'Total')] = comitee[('ID', 'F')] + comitee[('ID', 'M')]\n",
    "    comitee.sort_values([('ID', 'Total')]).iloc[-20:,:2].plot(kind='bar', stacked=True, ax=ax[idx], title='Comitee with highest number of {} medals'.format(med))"
   ]
  },
  {
   "cell_type": "markdown",
   "metadata": {},
   "source": [
    "#### Winter Games"
   ]
  },
  {
   "cell_type": "code",
   "execution_count": null,
   "metadata": {},
   "outputs": [],
   "source": [
    "medals_winter = df_athletes[df_athletes['Season'] == 'Winter'].dropna().groupby(['Sex', 'NOC', 'Medal'])\\\n",
    "                .count().reset_index()"
   ]
  },
  {
   "cell_type": "code",
   "execution_count": null,
   "metadata": {},
   "outputs": [],
   "source": [
    "f, ax = plt.subplots(1,3, figsize=(20,5), sharey=True)\n",
    "for idx, med in enumerate(['Gold', 'Silver', 'Bronze']):\n",
    "    comitee = pd.pivot_table(medals_winter[medals_winter.Medal == med], index='NOC', columns='Sex').fillna(0)\n",
    "    comitee[('ID', 'Total')] = comitee[('ID', 'F')] + comitee[('ID', 'M')]\n",
    "    comitee.sort_values([('ID', 'Total')]).iloc[-20:,:2].plot(kind='bar', stacked=True, ax=ax[idx], title='Comitee with highest number of {} medals'.format(med))"
   ]
  },
  {
   "cell_type": "markdown",
   "metadata": {},
   "source": [
    "### Number of athletes per year"
   ]
  },
  {
   "cell_type": "code",
   "execution_count": null,
   "metadata": {},
   "outputs": [],
   "source": [
    "df_athletes['type_event'] = df_athletes['Event'].apply(lambda x: ' '.join((x.split()[2:])))"
   ]
  },
  {
   "cell_type": "markdown",
   "metadata": {},
   "source": [
    "#### Summer Games"
   ]
  },
  {
   "cell_type": "code",
   "execution_count": null,
   "metadata": {},
   "outputs": [],
   "source": [
    "f, ax = plt.subplots(figsize=(20,5))\n",
    "df_athletes[df_athletes.Season == 'Summer'].groupby('Year').agg({'Name':'nunique'}).\\\n",
    "plot(kind='bar', ax=ax, title='Number of athletes by year')\n",
    "ax.set_xlabel('Year')\n",
    "ax.set_ylabel('Number of athletes')\n",
    "plt.show()"
   ]
  },
  {
   "cell_type": "code",
   "execution_count": null,
   "metadata": {},
   "outputs": [],
   "source": [
    "f, ax = plt.subplots(2, 1, figsize=(18,12))\n",
    "pd.pivot_table(df_athletes[df_athletes.Season == 'Summer'].groupby(['Year', 'Sex']).agg({'Name':'count'}), \\\n",
    "              index='Year', columns='Sex').\\\n",
    "plot(kind='bar', stacked=True, title='Number of athletes by year - Summer', ax=ax[0])\n",
    "ax[0].set_xlabel('Year')\n",
    "ax[0].set_ylabel('Number of athletes')\n",
    "ax[0].legend(['Female', 'Male'])\n",
    "\n",
    "pd.pivot_table(df_athletes[df_athletes.Season == 'Winter'].groupby(['Year', 'Sex']).agg({'Name':'count'}), \\\n",
    "              index='Year', columns='Sex').\\\n",
    "plot(kind='bar', stacked=True, title='Number of athletes by year - Winter', ax=ax[1])\n",
    "ax[1].set_xlabel('Year')\n",
    "ax[1].set_ylabel('Number of athletes')\n",
    "ax[1].legend(['Female', 'Male'])\n",
    "plt.show()"
   ]
  },
  {
   "cell_type": "code",
   "execution_count": null,
   "metadata": {},
   "outputs": [],
   "source": [
    "print('Number of unique athletes: {}'.format(df_athletes.Name.nunique()))\n",
    "print('Number of unique athletes (Summer): {}'.format(\\\n",
    "        df_athletes[df_athletes.Season == 'Summer'].Name.nunique()))\n",
    "print('Number of unique athletes (Winter): {}'.format(\\\n",
    "        df_athletes[df_athletes.Season == 'Winter'].Name.nunique()))\n",
    "print('Number of unique host cities: {}'.format(df_athletes.City.nunique()))\n",
    "print('Number of unique host cities (Summer): {}'.format(\\\n",
    "        df_athletes[df_athletes.Season == 'Summer'].City.nunique()))\n",
    "print('Number of unique host cities (Winter): {}'.format(\\\n",
    "        df_athletes[df_athletes.Season == 'Winter'].City.nunique()))"
   ]
  },
  {
   "cell_type": "code",
   "execution_count": null,
   "metadata": {},
   "outputs": [],
   "source": [
    "print('Athletes participating in both summer and winter games: ')\n",
    "a = set(df_athletes[df_athletes.Season == 'Summer'].Name.unique())\n",
    "b = set(df_athletes[df_athletes.Season == 'Winter'].Name.unique())\n",
    "print(len(a.intersection(b)))\n",
    "df_athletes[df_athletes.Name.isin(list(a.intersection(b)))].Sport.unique()"
   ]
  },
  {
   "cell_type": "markdown",
   "metadata": {},
   "source": [
    "### Host cities"
   ]
  },
  {
   "cell_type": "code",
   "execution_count": null,
   "metadata": {},
   "outputs": [],
   "source": [
    "df_cities = pd.read_csv('./data/host_cities.csv')\n",
    "df_cities.head()"
   ]
  },
  {
   "cell_type": "markdown",
   "metadata": {},
   "source": [
    "## Summer Olympics"
   ]
  },
  {
   "cell_type": "markdown",
   "metadata": {},
   "source": [
    "### Sports by year"
   ]
  },
  {
   "cell_type": "code",
   "execution_count": null,
   "metadata": {},
   "outputs": [],
   "source": [
    "sport_by_year = df_athletes[df_athletes.Season == 'Summer'][['Year', 'Sport']].groupby('Year')['Sport'].apply(set)"
   ]
  },
  {
   "cell_type": "code",
   "execution_count": null,
   "metadata": {},
   "outputs": [],
   "source": [
    "f, ax = plt.subplots(figsize=(20,5))\n",
    "df_athletes[df_athletes.Season == 'Summer'].groupby('Year').agg({'Sport':'nunique'}).\\\n",
    "plot(kind='bar', ax=ax, title='Number of sports by year')\n",
    "ax.set_xlabel('Year')\n",
    "ax.set_ylabel('Number of different sports')\n",
    "plt.show()"
   ]
  },
  {
   "cell_type": "code",
   "execution_count": null,
   "metadata": {},
   "outputs": [],
   "source": [
    "years = sorted(df_athletes[df_athletes.Season == 'Summer'].Year.unique())\n",
    "disappearing_sports = [(years[i], list(sport_by_year[years[i-1]] - sport_by_year[years[i]])) for i in range(1,len(years))]\n",
    "new_sports = [(years[i], list(sport_by_year[years[i]] - sport_by_year[years[i-1]])) for i in range(1,len(years))]"
   ]
  },
  {
   "cell_type": "code",
   "execution_count": null,
   "metadata": {},
   "outputs": [],
   "source": [
    "# adding the first year\n",
    "new_sports.insert(0, (years[0], list(sport_by_year[years[0]])))\n",
    "disappearing_sports.insert(0, (years[0], []))"
   ]
  },
  {
   "cell_type": "code",
   "execution_count": null,
   "metadata": {
    "scrolled": false
   },
   "outputs": [],
   "source": [
    "for e, d in zip(new_sports, disappearing_sports):\n",
    "    print('Year: ', e[0])\n",
    "    print(' New sports: ', e[1])\n",
    "    print('Disappearing sports:')\n",
    "    print(d[1],'\\n')"
   ]
  },
  {
   "cell_type": "code",
   "execution_count": null,
   "metadata": {},
   "outputs": [],
   "source": [
    "pd.DataFrame([(x,y[1],z[1]) for x, y, z in zip(years, new_sports, disappearing_sports)], columns=['Year', 'New', 'Disappearing'])"
   ]
  },
  {
   "cell_type": "code",
   "execution_count": null,
   "metadata": {},
   "outputs": [],
   "source": [
    "sport_year = pd.pivot_table(df_athletes[df_athletes.Season == 'Summer'][['Year', 'Sport', 'ID']].groupby(['Year', 'Sport'])\\\n",
    "               .count().reset_index(),\n",
    "               index='Sport', columns='Year').fillna(0)"
   ]
  },
  {
   "cell_type": "code",
   "execution_count": null,
   "metadata": {},
   "outputs": [],
   "source": [
    "f, ax = plt.subplots(figsize=(20,5))\n",
    "df_athletes[df_athletes.Season == 'Summer'][['Year', 'Sport']].groupby(['Sport'])\\\n",
    "               .nunique().sort_values('Year').plot(kind='bar',y='Year', ax=ax)\n",
    "plt.show()"
   ]
  },
  {
   "cell_type": "code",
   "execution_count": null,
   "metadata": {},
   "outputs": [],
   "source": [
    "# Winter sports in the summer games\n",
    "df_athletes[(df_athletes.Season == 'Summer') & \\\n",
    "            (df_athletes.Sport.isin(df_athletes[df_athletes.Season == 'Winter'].Sport.unique()))].\\\n",
    "groupby(['Sport', 'Year']).nunique()"
   ]
  },
  {
   "cell_type": "markdown",
   "metadata": {},
   "source": [
    "### Sports"
   ]
  },
  {
   "cell_type": "code",
   "execution_count": null,
   "metadata": {},
   "outputs": [],
   "source": [
    "sports_category = df_athletes[df_athletes['Season']=='Summer'].groupby('Sport').nunique()['Event'].sort_values(ascending=False)\n",
    "sports_category"
   ]
  },
  {
   "cell_type": "markdown",
   "metadata": {},
   "source": [
    "We can see that there are sports with a lot of events while there are others with very few of them. This can clearly influence on the number of medals, i.e. the same athlete can win many medals in different events of swimming while in cricket there is only one event."
   ]
  },
  {
   "cell_type": "code",
   "execution_count": null,
   "metadata": {},
   "outputs": [],
   "source": [
    "sport_event = df_athletes[df_athletes['Medal']=='Gold'].groupby(['Event', 'Year'], as_index=False).\\\n",
    "                count()[['Event', 'Medal']].drop_duplicates(subset=['Event'], keep='last')"
   ]
  },
  {
   "cell_type": "code",
   "execution_count": null,
   "metadata": {},
   "outputs": [],
   "source": [
    "data_sports = []\n",
    "\n",
    "for _, row in sport_event.iterrows():\n",
    "    if 'Men' in row['Event']:\n",
    "        gender = 'M'\n",
    "    elif 'Women' in row['Event']:\n",
    "        gender = 'W'\n",
    "    else:\n",
    "        gender = 'B'\n",
    "    if row['Medal'] > 1:\n",
    "        type_sport = 'Team'\n",
    "    else:\n",
    "        type_sport = 'Individual'\n",
    "    data_sports.append([row['Event'], type_sport, gender])"
   ]
  },
  {
   "cell_type": "code",
   "execution_count": null,
   "metadata": {},
   "outputs": [],
   "source": [
    "df_events = pd.DataFrame(data_sports, columns=['Event', 'Collectivity', 'Gender'])\n",
    "df_events.head()"
   ]
  },
  {
   "cell_type": "code",
   "execution_count": null,
   "metadata": {},
   "outputs": [],
   "source": [
    "df_events.groupby('Collectivity').count()['Event'].plot(kind='bar', figsize=(10,4))"
   ]
  },
  {
   "cell_type": "code",
   "execution_count": null,
   "metadata": {},
   "outputs": [],
   "source": [
    "# B - both/mixed, M - Men, W - Women\n",
    "df_events.groupby('Gender').count()['Event'].plot(kind='bar', figsize=(10,4))"
   ]
  },
  {
   "cell_type": "code",
   "execution_count": null,
   "metadata": {},
   "outputs": [],
   "source": [
    "df_athletes = df_athletes.join(df_events.set_index('Event'), on='Event', how='left')"
   ]
  },
  {
   "cell_type": "code",
   "execution_count": null,
   "metadata": {},
   "outputs": [],
   "source": [
    "sports_type = df_athletes[df_athletes['Season'] == 'Summer'].\\\n",
    "        groupby(['Sport', 'Collectivity']).\\\n",
    "        nunique()['Event']"
   ]
  },
  {
   "cell_type": "code",
   "execution_count": null,
   "metadata": {},
   "outputs": [],
   "source": [
    "sports_type"
   ]
  },
  {
   "cell_type": "code",
   "execution_count": null,
   "metadata": {},
   "outputs": [],
   "source": [
    "sports_type_unstack = sports_type.unstack().fillna(0)\n",
    "sports_type_unstack.assign(tmp=sports_type_unstack.sum(axis=1)).\\\n",
    "        sort_values('tmp').drop('tmp', 1).\\\n",
    "        plot(kind='bar', stacked=True, figsize=(20,12));"
   ]
  },
  {
   "cell_type": "markdown",
   "metadata": {},
   "source": [
    "### Countries by year"
   ]
  },
  {
   "cell_type": "code",
   "execution_count": null,
   "metadata": {},
   "outputs": [],
   "source": [
    "country_per_year = df_athletes[df_athletes.Season == 'Summer'].groupby(['Year'])['NOC'].nunique()\n",
    "\n",
    "f, ax = plt.subplots(figsize=(20,5))\n",
    "country_per_year.plot(kind='bar', title='Number of countries per year', ax=ax)\n",
    "ax.set_xlabel('Year')\n",
    "ax.set_ylabel('Number of different countries')\n",
    "plt.show();"
   ]
  },
  {
   "cell_type": "code",
   "execution_count": null,
   "metadata": {},
   "outputs": [],
   "source": [
    "years = sorted(df_athletes[df_athletes.Season == 'Summer'].Year.unique())\n",
    "noc_per_year = df_athletes[df_athletes.Season == 'Summer'][['Year', 'NOC']].groupby('Year')['NOC'].apply(set)\n",
    "\n",
    "disappearing_noc = [(years[i], list(noc_per_year[years[i-1]] - noc_per_year[years[i]])) for i in range(1,len(years))]\n",
    "new_noc = [(years[i], list(noc_per_year[years[i]] - noc_per_year[years[i-1]])) for i in range(1,len(years))]"
   ]
  },
  {
   "cell_type": "code",
   "execution_count": null,
   "metadata": {},
   "outputs": [],
   "source": [
    "# adding the first year\n",
    "new_noc.insert(0, (years[0], list(noc_per_year[years[0]])))\n",
    "disappearing_noc.insert(0, (years[0], []))"
   ]
  },
  {
   "cell_type": "code",
   "execution_count": null,
   "metadata": {},
   "outputs": [],
   "source": [
    "df_noc = pd.read_csv('./data/noc_regions.csv')\n",
    "df_noc.head()"
   ]
  },
  {
   "cell_type": "code",
   "execution_count": null,
   "metadata": {},
   "outputs": [],
   "source": [
    "# create dictionary with NOC and regions\n",
    "noc_dict = df_noc[['NOC', 'region']].set_index('NOC').to_dict()['region']\n",
    "\n",
    "# add missing entry\n",
    "noc_dict['SGP'] = 'Singapore'"
   ]
  },
  {
   "cell_type": "code",
   "execution_count": null,
   "metadata": {
    "scrolled": false
   },
   "outputs": [],
   "source": [
    "for e, d in zip(new_noc, disappearing_noc):\n",
    "    print('Year: ', e[0])\n",
    "    print('\\n\\t New country (NOC): ', [noc_dict[i] for i in e[1]])\n",
    "    print('\\n\\t Disappearing country (NOC):', [noc_dict[i] for i in d[1]],'\\n\\n')"
   ]
  },
  {
   "cell_type": "code",
   "execution_count": null,
   "metadata": {},
   "outputs": [],
   "source": [
    "noc_years = df_athletes[df_athletes.Season == 'Summer'].groupby(['NOC']).nunique()['Year']\\\n",
    "            .sort_values(ascending=False)\n",
    "noc_years"
   ]
  },
  {
   "cell_type": "markdown",
   "metadata": {},
   "source": [
    "### Host cities"
   ]
  },
  {
   "cell_type": "code",
   "execution_count": null,
   "metadata": {},
   "outputs": [],
   "source": [
    "df_host_cities = df_athletes[['City', 'Year']].drop_duplicates().reset_index(drop=True)"
   ]
  },
  {
   "cell_type": "code",
   "execution_count": null,
   "metadata": {},
   "outputs": [],
   "source": [
    "df_host_cities = df_host_cities.join(df_cities.set_index('City'), on='City')"
   ]
  },
  {
   "cell_type": "code",
   "execution_count": null,
   "metadata": {},
   "outputs": [],
   "source": [
    "df_host_cities"
   ]
  },
  {
   "cell_type": "code",
   "execution_count": null,
   "metadata": {},
   "outputs": [],
   "source": [
    "f, ax = plt.subplots(figsize=(20,5))\n",
    "df_host_cities[df_host_cities['Season'] == 'Summer'].groupby('Country')['City']\\\n",
    "    .count().sort_values().plot(kind='bar', ax=ax, title='Years helding the Summer Olympic Games')\n",
    "ax.set_ylabel('Years helding the Games')\n",
    "ax.set_yticks(range(0,5))\n",
    "plt.show()"
   ]
  },
  {
   "cell_type": "code",
   "execution_count": null,
   "metadata": {},
   "outputs": [],
   "source": [
    "f, ax = plt.subplots(figsize=(20,5))\n",
    "df_host_cities[df_host_cities['Season'] == 'Summer'].groupby('Continent')['City']\\\n",
    "    .count().sort_values().plot(kind='bar', ax=ax, title='Years helding the Summer Olympic Games')\n",
    "ax.set_ylabel('Years helding the Games')\n",
    "ax.set_yticks(range(0,19,2))\n",
    "plt.show()"
   ]
  },
  {
   "cell_type": "markdown",
   "metadata": {},
   "source": [
    "## Athletes "
   ]
  },
  {
   "cell_type": "markdown",
   "metadata": {},
   "source": [
    "### Who has more medals?"
   ]
  },
  {
   "cell_type": "code",
   "execution_count": null,
   "metadata": {},
   "outputs": [],
   "source": [
    "count_medals = df_athletes.groupby(['Name', 'Medal']).agg({'Sport':'count'}).\\\n",
    "                rename(columns={'Sport':'total'}).reset_index()"
   ]
  },
  {
   "cell_type": "markdown",
   "metadata": {},
   "source": [
    "**Greatest number of GOLD MEDALS**"
   ]
  },
  {
   "cell_type": "code",
   "execution_count": null,
   "metadata": {},
   "outputs": [],
   "source": [
    "count_medals[count_medals.Medal == 'Gold'].sort_values('total', ascending=False).head(10)"
   ]
  },
  {
   "cell_type": "markdown",
   "metadata": {},
   "source": [
    "**Greatest number of SILVER MEDALS**"
   ]
  },
  {
   "cell_type": "code",
   "execution_count": null,
   "metadata": {},
   "outputs": [],
   "source": [
    "count_medals[count_medals.Medal == 'Silver'].sort_values('total', ascending=False).head(10)"
   ]
  },
  {
   "cell_type": "markdown",
   "metadata": {},
   "source": [
    "**Greatest number of BRONZE MEDALS**"
   ]
  },
  {
   "cell_type": "code",
   "execution_count": null,
   "metadata": {},
   "outputs": [],
   "source": [
    "count_medals[count_medals.Medal == 'Bronze'].sort_values('total', ascending=False).head(10)"
   ]
  },
  {
   "cell_type": "markdown",
   "metadata": {},
   "source": [
    "**Greatest number of MEDALS**"
   ]
  },
  {
   "cell_type": "code",
   "execution_count": null,
   "metadata": {},
   "outputs": [],
   "source": [
    "count_medals.groupby('Name').sum().sort_values('total', ascending=False).head(10)"
   ]
  },
  {
   "cell_type": "markdown",
   "metadata": {},
   "source": [
    "### Who has participated more years?"
   ]
  },
  {
   "cell_type": "code",
   "execution_count": null,
   "metadata": {},
   "outputs": [],
   "source": [
    "ath_year_sport = df_athletes.groupby(['Name']).agg({\n",
    "    'Year':'nunique', 'Sport':'unique'\n",
    "})"
   ]
  },
  {
   "cell_type": "code",
   "execution_count": null,
   "metadata": {},
   "outputs": [],
   "source": [
    "ath_year_sport.sort_values(['Year', 'Name'], ascending=False).head(15)"
   ]
  },
  {
   "cell_type": "code",
   "execution_count": null,
   "metadata": {},
   "outputs": [],
   "source": [
    "df_athletes[df_athletes.Name == ath_year_sport.sort_values('Year', ascending=False).reset_index().iloc[0,0]].\\\n",
    "groupby(['Name','Year', 'Season', 'Sport']).agg({\n",
    "    'type_event':'unique', 'Medal':['unique','nunique']\n",
    "})"
   ]
  },
  {
   "cell_type": "code",
   "execution_count": null,
   "metadata": {},
   "outputs": [],
   "source": [
    "df_athletes[df_athletes.Name == ath_year_sport.sort_values('Year', ascending=False).reset_index().iloc[1,0]].\\\n",
    "groupby(['Name','Year', 'Season', 'Sport']).agg({\n",
    "    'type_event':'unique', 'Medal':['unique','nunique']\n",
    "})"
   ]
  },
  {
   "cell_type": "code",
   "execution_count": null,
   "metadata": {},
   "outputs": [],
   "source": [
    "df_athletes[df_athletes.Name == ath_year_sport.sort_values('Year', ascending=False).reset_index().iloc[2,0]].\\\n",
    "groupby(['Name','Year', 'Season', 'Sport']).agg({\n",
    "    'type_event':'unique', 'Medal':['unique','nunique']\n",
    "})"
   ]
  },
  {
   "cell_type": "markdown",
   "metadata": {},
   "source": [
    "### Who has participated in greater number of different sports?"
   ]
  },
  {
   "cell_type": "code",
   "execution_count": null,
   "metadata": {},
   "outputs": [],
   "source": [
    "ath_year_sport['number_Sports'] = ath_year_sport['Sport'].apply(lambda x: len(x))"
   ]
  },
  {
   "cell_type": "code",
   "execution_count": null,
   "metadata": {},
   "outputs": [],
   "source": [
    "ath_year_sport.sort_values('number_Sports', ascending=False).head(10)"
   ]
  },
  {
   "cell_type": "code",
   "execution_count": null,
   "metadata": {},
   "outputs": [],
   "source": [
    "df_athletes[df_athletes.Name == ath_year_sport.sort_values('number_Sports', ascending=False).reset_index().iloc[0,0]].\\\n",
    "groupby(['Name','Year', 'Season', 'Sport']).agg({\n",
    "    'type_event':'unique', 'Medal':['unique','nunique']\n",
    "})"
   ]
  },
  {
   "cell_type": "code",
   "execution_count": null,
   "metadata": {},
   "outputs": [],
   "source": [
    "df_athletes[df_athletes.Name == ath_year_sport.sort_values('number_Sports', ascending=False).reset_index().iloc[1,0]].\\\n",
    "groupby(['Name','Year', 'Season', 'Sport']).agg({\n",
    "    'type_event':'unique', 'Medal':['unique','nunique']\n",
    "})"
   ]
  },
  {
   "cell_type": "code",
   "execution_count": null,
   "metadata": {},
   "outputs": [],
   "source": [
    "df_athletes[df_athletes.Name == ath_year_sport.sort_values('number_Sports', ascending=False).reset_index().iloc[2,0]].\\\n",
    "groupby(['Name','Year', 'Season', 'Sport']).agg({\n",
    "    'type_event':'unique', 'Medal':['unique','nunique']\n",
    "})"
   ]
  },
  {
   "cell_type": "markdown",
   "metadata": {},
   "source": [
    "### Who has taken part in both Summer and Winter Olympics?"
   ]
  },
  {
   "cell_type": "code",
   "execution_count": null,
   "metadata": {},
   "outputs": [],
   "source": [
    "df_athletes[df_athletes.Name.isin(list(a.intersection(b)))].groupby('Name').agg({\n",
    "    'Sport':['unique', 'nunique'], 'Team':['unique'], 'Year':['unique', 'nunique'], 'Medal':['unique']\n",
    "}).sort_values(('Sport','nunique'), ascending=False)"
   ]
  },
  {
   "cell_type": "markdown",
   "metadata": {},
   "source": [
    "## History of the Games"
   ]
  },
  {
   "cell_type": "code",
   "execution_count": null,
   "metadata": {},
   "outputs": [],
   "source": [
    "df_athletes[['Year','Season']].drop_duplicates().sort_values('Year').reset_index(drop=True)"
   ]
  },
  {
   "cell_type": "markdown",
   "metadata": {},
   "source": [
    "#### General Observations\n",
    "\n",
    "* The Olympic Games are celebrated every 4 years. **What happened in 1906?** The **1906 Intercalated Games were held in Athens.** These Games were, but are not now, officially recognised by the IOC and no Intercalated Games have been held since. \n",
    "\n",
    "\n",
    "* In **1924 the first Winter Olympic Games** were held in Chamonix. However, Figure skating (in 1908 and 1920) and Ice hockey (in 1920) were featured as Olympic events at the Summer Olympics.\n",
    "\n",
    "\n",
    "* Both Summer and Winter Olympic Games were celebrated the same year until 1992. Beginning in 1994, the Winter Olympics were held every four years, two years after each Summer Olympics.\n",
    "\n",
    "\n",
    "* In **1916 no Games were held**. They were cancelled due to the outbreak of World War I. \n",
    "\n",
    "\n",
    "* In **1940 and 1944 no Games were held**. They were cancelled due to the World War II.\n",
    "\n",
    "\n",
    "* The next Games were supposed to be held in **2020** in Tokyo, Japan. However, due to the coronavirus pandemic, **the Games will be rescheduled** to a date no later than summer 2021, and that the Games would keep the name Tokyo 2020. This is the first time in history that the Olympics have been postponed, rather than canceled."
   ]
  },
  {
   "cell_type": "code",
   "execution_count": null,
   "metadata": {},
   "outputs": [],
   "source": []
  }
 ],
 "metadata": {
  "kernelspec": {
   "display_name": "Python [conda env:ada] *",
   "language": "python",
   "name": "conda-env-ada-py"
  },
  "language_info": {
   "codemirror_mode": {
    "name": "ipython",
    "version": 3
   },
   "file_extension": ".py",
   "mimetype": "text/x-python",
   "name": "python",
   "nbconvert_exporter": "python",
   "pygments_lexer": "ipython3",
   "version": "3.7.4"
  }
 },
 "nbformat": 4,
 "nbformat_minor": 2
}
